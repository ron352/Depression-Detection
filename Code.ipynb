{
  "nbformat": 4,
  "nbformat_minor": 0,
  "metadata": {
    "colab": {
      "name": "Team8_Empire.ipynb",
      "provenance": [],
      "collapsed_sections": []
    },
    "kernelspec": {
      "display_name": "Python 3",
      "name": "python3"
    }
  },
  "cells": [
    {
      "cell_type": "code",
      "metadata": {
        "id": "DsFukqDhUwTq"
      },
      "source": [
        "import numpy as np\r\n",
        "import pandas as pd\r\n",
        "import matplotlib.pyplot as plt\r\n",
        "from matplotlib import rcParams\r\n",
        "from matplotlib.cm import rainbow\r\n",
        "%matplotlib inline\r\n",
        "import warnings\r\n",
        "import seaborn as sns\r\n",
        "import pickle\r\n",
        "warnings.filterwarnings('ignore')\r\n",
        "from sklearn.preprocessing import StandardScaler\r\n",
        "from sklearn.model_selection import train_test_split\r\n",
        "from sklearn import metrics\r\n",
        "from sklearn.linear_model import LogisticRegression\r\n",
        "from sklearn.neighbors import KNeighborsClassifier\r\n",
        "from sklearn.svm import SVC\r\n",
        "from sklearn.naive_bayes import GaussianNB\r\n",
        "from sklearn.tree import DecisionTreeClassifier\r\n",
        "from sklearn.ensemble import RandomForestClassifier\r\n"
      ],
      "execution_count": null,
      "outputs": []
    },
    {
      "cell_type": "code",
      "metadata": {
        "id": "XDSkABO7huDq",
        "colab": {
          "resources": {
            "http://localhost:8080/nbextensions/google.colab/files.js": {
              "data": "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",
              "ok": true,
              "headers": [
                [
                  "content-type",
                  "application/javascript"
                ]
              ],
              "status": 200,
              "status_text": ""
            }
          },
          "base_uri": "https://localhost:8080/",
          "height": 72
        },
        "outputId": "85a9a851-1049-4e35-b3e3-93abf8948e58"
      },
      "source": [
        "from google.colab import files \r\n",
        "uploaded = files.upload() \r\n"
      ],
      "execution_count": null,
      "outputs": [
        {
          "output_type": "display_data",
          "data": {
            "text/html": [
              "\n",
              "     <input type=\"file\" id=\"files-77710dcc-8d36-4315-944e-095a7ce89c49\" name=\"files[]\" multiple disabled\n",
              "        style=\"border:none\" />\n",
              "     <output id=\"result-77710dcc-8d36-4315-944e-095a7ce89c49\">\n",
              "      Upload widget is only available when the cell has been executed in the\n",
              "      current browser session. Please rerun this cell to enable.\n",
              "      </output>\n",
              "      <script src=\"/nbextensions/google.colab/files.js\"></script> "
            ],
            "text/plain": [
              "<IPython.core.display.HTML object>"
            ]
          },
          "metadata": {
            "tags": []
          }
        },
        {
          "output_type": "stream",
          "text": [
            "Saving covid_mental_health_train.csv to covid_mental_health_train.csv\n"
          ],
          "name": "stdout"
        }
      ]
    },
    {
      "cell_type": "code",
      "metadata": {
        "colab": {
          "base_uri": "https://localhost:8080/",
          "height": 217
        },
        "id": "OI0HVPfmVzoC",
        "outputId": "9bfef806-6138-4565-b311-15451fea3f14"
      },
      "source": [
        "df1=pd.read_csv('covid_mental_health_test.csv')\r\n",
        "df=pd.read_csv('covid_mental_health_train.csv')\r\n",
        "df.head()"
      ],
      "execution_count": null,
      "outputs": [
        {
          "output_type": "execute_result",
          "data": {
            "text/html": [
              "<div>\n",
              "<style scoped>\n",
              "    .dataframe tbody tr th:only-of-type {\n",
              "        vertical-align: middle;\n",
              "    }\n",
              "\n",
              "    .dataframe tbody tr th {\n",
              "        vertical-align: top;\n",
              "    }\n",
              "\n",
              "    .dataframe thead th {\n",
              "        text-align: right;\n",
              "    }\n",
              "</style>\n",
              "<table border=\"1\" class=\"dataframe\">\n",
              "  <thead>\n",
              "    <tr style=\"text-align: right;\">\n",
              "      <th></th>\n",
              "      <th>id</th>\n",
              "      <th>city</th>\n",
              "      <th>gender</th>\n",
              "      <th>age</th>\n",
              "      <th>job</th>\n",
              "      <th>health_worker_self</th>\n",
              "      <th>health_worker_family</th>\n",
              "      <th>family_status</th>\n",
              "      <th>income_group</th>\n",
              "      <th>current_physical</th>\n",
              "      <th>past_physical</th>\n",
              "      <th>current_mental</th>\n",
              "      <th>past_mental</th>\n",
              "      <th>exercise</th>\n",
              "      <th>healthy_diet</th>\n",
              "      <th>healthy_sleep</th>\n",
              "      <th>activity</th>\n",
              "      <th>interaction_offline</th>\n",
              "      <th>interaction_online</th>\n",
              "      <th>preventive_behaviors</th>\n",
              "      <th>optimism</th>\n",
              "      <th>deterioration_economy</th>\n",
              "      <th>deterioration_interact</th>\n",
              "      <th>frustration</th>\n",
              "      <th>covid_anxiety</th>\n",
              "      <th>covid_sleepless</th>\n",
              "      <th>difficulty_living</th>\n",
              "      <th>difficulty_work</th>\n",
              "      <th>depression</th>\n",
              "    </tr>\n",
              "  </thead>\n",
              "  <tbody>\n",
              "    <tr>\n",
              "      <th>0</th>\n",
              "      <td>1963059261</td>\n",
              "      <td>1</td>\n",
              "      <td>1</td>\n",
              "      <td>65</td>\n",
              "      <td>4</td>\n",
              "      <td>2</td>\n",
              "      <td>2</td>\n",
              "      <td>1</td>\n",
              "      <td>1.0</td>\n",
              "      <td>2</td>\n",
              "      <td>1</td>\n",
              "      <td>2</td>\n",
              "      <td>2</td>\n",
              "      <td>6</td>\n",
              "      <td>3</td>\n",
              "      <td>5</td>\n",
              "      <td>6</td>\n",
              "      <td>1</td>\n",
              "      <td>5</td>\n",
              "      <td>5</td>\n",
              "      <td>4</td>\n",
              "      <td>1</td>\n",
              "      <td>1</td>\n",
              "      <td>5</td>\n",
              "      <td>2</td>\n",
              "      <td>1</td>\n",
              "      <td>6</td>\n",
              "      <td>5</td>\n",
              "      <td>0</td>\n",
              "    </tr>\n",
              "    <tr>\n",
              "      <th>1</th>\n",
              "      <td>591108995</td>\n",
              "      <td>4</td>\n",
              "      <td>1</td>\n",
              "      <td>68</td>\n",
              "      <td>1</td>\n",
              "      <td>2</td>\n",
              "      <td>2</td>\n",
              "      <td>2</td>\n",
              "      <td>3.0</td>\n",
              "      <td>2</td>\n",
              "      <td>2</td>\n",
              "      <td>2</td>\n",
              "      <td>2</td>\n",
              "      <td>4</td>\n",
              "      <td>4</td>\n",
              "      <td>4</td>\n",
              "      <td>4</td>\n",
              "      <td>4</td>\n",
              "      <td>6</td>\n",
              "      <td>7</td>\n",
              "      <td>4</td>\n",
              "      <td>5</td>\n",
              "      <td>4</td>\n",
              "      <td>4</td>\n",
              "      <td>4</td>\n",
              "      <td>4</td>\n",
              "      <td>4</td>\n",
              "      <td>5</td>\n",
              "      <td>0</td>\n",
              "    </tr>\n",
              "    <tr>\n",
              "      <th>2</th>\n",
              "      <td>613190420</td>\n",
              "      <td>2</td>\n",
              "      <td>1</td>\n",
              "      <td>68</td>\n",
              "      <td>4</td>\n",
              "      <td>2</td>\n",
              "      <td>2</td>\n",
              "      <td>2</td>\n",
              "      <td>3.0</td>\n",
              "      <td>2</td>\n",
              "      <td>2</td>\n",
              "      <td>2</td>\n",
              "      <td>2</td>\n",
              "      <td>5</td>\n",
              "      <td>2</td>\n",
              "      <td>6</td>\n",
              "      <td>4</td>\n",
              "      <td>5</td>\n",
              "      <td>7</td>\n",
              "      <td>5</td>\n",
              "      <td>5</td>\n",
              "      <td>1</td>\n",
              "      <td>1</td>\n",
              "      <td>1</td>\n",
              "      <td>5</td>\n",
              "      <td>2</td>\n",
              "      <td>1</td>\n",
              "      <td>1</td>\n",
              "      <td>0</td>\n",
              "    </tr>\n",
              "    <tr>\n",
              "      <th>3</th>\n",
              "      <td>1011726889</td>\n",
              "      <td>7</td>\n",
              "      <td>1</td>\n",
              "      <td>66</td>\n",
              "      <td>4</td>\n",
              "      <td>2</td>\n",
              "      <td>2</td>\n",
              "      <td>2</td>\n",
              "      <td>5.0</td>\n",
              "      <td>2</td>\n",
              "      <td>2</td>\n",
              "      <td>2</td>\n",
              "      <td>2</td>\n",
              "      <td>5</td>\n",
              "      <td>5</td>\n",
              "      <td>6</td>\n",
              "      <td>7</td>\n",
              "      <td>4</td>\n",
              "      <td>1</td>\n",
              "      <td>6</td>\n",
              "      <td>7</td>\n",
              "      <td>1</td>\n",
              "      <td>1</td>\n",
              "      <td>7</td>\n",
              "      <td>1</td>\n",
              "      <td>1</td>\n",
              "      <td>1</td>\n",
              "      <td>1</td>\n",
              "      <td>0</td>\n",
              "    </tr>\n",
              "    <tr>\n",
              "      <th>4</th>\n",
              "      <td>345550215</td>\n",
              "      <td>2</td>\n",
              "      <td>1</td>\n",
              "      <td>72</td>\n",
              "      <td>4</td>\n",
              "      <td>2</td>\n",
              "      <td>2</td>\n",
              "      <td>2</td>\n",
              "      <td>10.0</td>\n",
              "      <td>2</td>\n",
              "      <td>2</td>\n",
              "      <td>2</td>\n",
              "      <td>2</td>\n",
              "      <td>7</td>\n",
              "      <td>6</td>\n",
              "      <td>5</td>\n",
              "      <td>4</td>\n",
              "      <td>6</td>\n",
              "      <td>5</td>\n",
              "      <td>6</td>\n",
              "      <td>5</td>\n",
              "      <td>2</td>\n",
              "      <td>1</td>\n",
              "      <td>1</td>\n",
              "      <td>6</td>\n",
              "      <td>1</td>\n",
              "      <td>1</td>\n",
              "      <td>4</td>\n",
              "      <td>0</td>\n",
              "    </tr>\n",
              "  </tbody>\n",
              "</table>\n",
              "</div>"
            ],
            "text/plain": [
              "           id  city  gender  ...  difficulty_living  difficulty_work  depression\n",
              "0  1963059261     1       1  ...                  6                5           0\n",
              "1   591108995     4       1  ...                  4                5           0\n",
              "2   613190420     2       1  ...                  1                1           0\n",
              "3  1011726889     7       1  ...                  1                1           0\n",
              "4   345550215     2       1  ...                  1                4           0\n",
              "\n",
              "[5 rows x 29 columns]"
            ]
          },
          "metadata": {
            "tags": []
          },
          "execution_count": 25
        }
      ]
    },
    {
      "cell_type": "code",
      "metadata": {
        "colab": {
          "base_uri": "https://localhost:8080/"
        },
        "id": "cz7FgZm8WgMT",
        "outputId": "de91288a-6dff-4195-de5c-8ef4f5380944"
      },
      "source": [
        "df.dtypes"
      ],
      "execution_count": null,
      "outputs": [
        {
          "output_type": "execute_result",
          "data": {
            "text/plain": [
              "id                          int64\n",
              "city                        int64\n",
              "gender                      int64\n",
              "age                         int64\n",
              "job                         int64\n",
              "health_worker_self          int64\n",
              "health_worker_family        int64\n",
              "family_status               int64\n",
              "income_group              float64\n",
              "current_physical            int64\n",
              "past_physical               int64\n",
              "current_mental              int64\n",
              "past_mental                 int64\n",
              "exercise                    int64\n",
              "healthy_diet                int64\n",
              "healthy_sleep               int64\n",
              "activity                    int64\n",
              "interaction_offline         int64\n",
              "interaction_online          int64\n",
              "preventive_behaviors        int64\n",
              "optimism                    int64\n",
              "deterioration_economy       int64\n",
              "deterioration_interact      int64\n",
              "frustration                 int64\n",
              "covid_anxiety               int64\n",
              "covid_sleepless             int64\n",
              "difficulty_living           int64\n",
              "difficulty_work             int64\n",
              "depression                  int64\n",
              "dtype: object"
            ]
          },
          "metadata": {
            "tags": []
          },
          "execution_count": 26
        }
      ]
    },
    {
      "cell_type": "markdown",
      "metadata": {
        "id": "MDu36g-ak0lB"
      },
      "source": [
        "## ***Data Analysis***\r\n",
        "\r\n",
        "\r\n"
      ]
    },
    {
      "cell_type": "code",
      "metadata": {
        "colab": {
          "base_uri": "https://localhost:8080/"
        },
        "id": "HyDfZ3JrWnUf",
        "outputId": "eebae8a0-3f67-4701-d1fc-144014b3cbff"
      },
      "source": [
        "#Data analysis\r\n",
        "\r\n",
        "df.keys()"
      ],
      "execution_count": null,
      "outputs": [
        {
          "output_type": "execute_result",
          "data": {
            "text/plain": [
              "Index(['id', 'city', 'gender', 'age', 'job', 'health_worker_self',\n",
              "       'health_worker_family', 'family_status', 'income_group',\n",
              "       'current_physical', 'past_physical', 'current_mental', 'past_mental',\n",
              "       'exercise', 'healthy_diet', 'healthy_sleep', 'activity',\n",
              "       'interaction_offline', 'interaction_online', 'preventive_behaviors',\n",
              "       'optimism', 'deterioration_economy', 'deterioration_interact',\n",
              "       'frustration', 'covid_anxiety', 'covid_sleepless', 'difficulty_living',\n",
              "       'difficulty_work', 'depression'],\n",
              "      dtype='object')"
            ]
          },
          "metadata": {
            "tags": []
          },
          "execution_count": 27
        }
      ]
    },
    {
      "cell_type": "code",
      "metadata": {
        "colab": {
          "base_uri": "https://localhost:8080/"
        },
        "id": "5bZNvyjdZI8S",
        "outputId": "5f828835-5e6b-4114-f96b-64e979853716"
      },
      "source": [
        "\r\n",
        "df.info()"
      ],
      "execution_count": null,
      "outputs": [
        {
          "output_type": "stream",
          "text": [
            "<class 'pandas.core.frame.DataFrame'>\n",
            "RangeIndex: 8610 entries, 0 to 8609\n",
            "Data columns (total 29 columns):\n",
            " #   Column                  Non-Null Count  Dtype  \n",
            "---  ------                  --------------  -----  \n",
            " 0   id                      8610 non-null   int64  \n",
            " 1   city                    8610 non-null   int64  \n",
            " 2   gender                  8610 non-null   int64  \n",
            " 3   age                     8610 non-null   int64  \n",
            " 4   job                     8610 non-null   int64  \n",
            " 5   health_worker_self      8610 non-null   int64  \n",
            " 6   health_worker_family    8610 non-null   int64  \n",
            " 7   family_status           8610 non-null   int64  \n",
            " 8   income_group            7282 non-null   float64\n",
            " 9   current_physical        8610 non-null   int64  \n",
            " 10  past_physical           8610 non-null   int64  \n",
            " 11  current_mental          8610 non-null   int64  \n",
            " 12  past_mental             8610 non-null   int64  \n",
            " 13  exercise                8610 non-null   int64  \n",
            " 14  healthy_diet            8610 non-null   int64  \n",
            " 15  healthy_sleep           8610 non-null   int64  \n",
            " 16  activity                8610 non-null   int64  \n",
            " 17  interaction_offline     8610 non-null   int64  \n",
            " 18  interaction_online      8610 non-null   int64  \n",
            " 19  preventive_behaviors    8610 non-null   int64  \n",
            " 20  optimism                8610 non-null   int64  \n",
            " 21  deterioration_economy   8610 non-null   int64  \n",
            " 22  deterioration_interact  8610 non-null   int64  \n",
            " 23  frustration             8610 non-null   int64  \n",
            " 24  covid_anxiety           8610 non-null   int64  \n",
            " 25  covid_sleepless         8610 non-null   int64  \n",
            " 26  difficulty_living       8610 non-null   int64  \n",
            " 27  difficulty_work         8610 non-null   int64  \n",
            " 28  depression              8610 non-null   int64  \n",
            "dtypes: float64(1), int64(28)\n",
            "memory usage: 1.9 MB\n"
          ],
          "name": "stdout"
        }
      ]
    },
    {
      "cell_type": "code",
      "metadata": {
        "colab": {
          "base_uri": "https://localhost:8080/",
          "height": 307
        },
        "id": "vQwfGbuEZR3u",
        "outputId": "8e0497b4-72f1-47ae-a934-164b8a3fc192"
      },
      "source": [
        "df.describe()"
      ],
      "execution_count": null,
      "outputs": [
        {
          "output_type": "execute_result",
          "data": {
            "text/html": [
              "<div>\n",
              "<style scoped>\n",
              "    .dataframe tbody tr th:only-of-type {\n",
              "        vertical-align: middle;\n",
              "    }\n",
              "\n",
              "    .dataframe tbody tr th {\n",
              "        vertical-align: top;\n",
              "    }\n",
              "\n",
              "    .dataframe thead th {\n",
              "        text-align: right;\n",
              "    }\n",
              "</style>\n",
              "<table border=\"1\" class=\"dataframe\">\n",
              "  <thead>\n",
              "    <tr style=\"text-align: right;\">\n",
              "      <th></th>\n",
              "      <th>id</th>\n",
              "      <th>city</th>\n",
              "      <th>gender</th>\n",
              "      <th>age</th>\n",
              "      <th>job</th>\n",
              "      <th>health_worker_self</th>\n",
              "      <th>health_worker_family</th>\n",
              "      <th>family_status</th>\n",
              "      <th>income_group</th>\n",
              "      <th>current_physical</th>\n",
              "      <th>past_physical</th>\n",
              "      <th>current_mental</th>\n",
              "      <th>past_mental</th>\n",
              "      <th>exercise</th>\n",
              "      <th>healthy_diet</th>\n",
              "      <th>healthy_sleep</th>\n",
              "      <th>activity</th>\n",
              "      <th>interaction_offline</th>\n",
              "      <th>interaction_online</th>\n",
              "      <th>preventive_behaviors</th>\n",
              "      <th>optimism</th>\n",
              "      <th>deterioration_economy</th>\n",
              "      <th>deterioration_interact</th>\n",
              "      <th>frustration</th>\n",
              "      <th>covid_anxiety</th>\n",
              "      <th>covid_sleepless</th>\n",
              "      <th>difficulty_living</th>\n",
              "      <th>difficulty_work</th>\n",
              "      <th>depression</th>\n",
              "    </tr>\n",
              "  </thead>\n",
              "  <tbody>\n",
              "    <tr>\n",
              "      <th>count</th>\n",
              "      <td>8.610000e+03</td>\n",
              "      <td>8610.000000</td>\n",
              "      <td>8610.000000</td>\n",
              "      <td>8610.000000</td>\n",
              "      <td>8610.000000</td>\n",
              "      <td>8610.000000</td>\n",
              "      <td>8610.000000</td>\n",
              "      <td>8610.000000</td>\n",
              "      <td>7282.000000</td>\n",
              "      <td>8610.000000</td>\n",
              "      <td>8610.000000</td>\n",
              "      <td>8610.000000</td>\n",
              "      <td>8610.000000</td>\n",
              "      <td>8610.000000</td>\n",
              "      <td>8610.000000</td>\n",
              "      <td>8610.000000</td>\n",
              "      <td>8610.000000</td>\n",
              "      <td>8610.000000</td>\n",
              "      <td>8610.000000</td>\n",
              "      <td>8610.000000</td>\n",
              "      <td>8610.000000</td>\n",
              "      <td>8610.000000</td>\n",
              "      <td>8610.000000</td>\n",
              "      <td>8610.000000</td>\n",
              "      <td>8610.000000</td>\n",
              "      <td>8610.000000</td>\n",
              "      <td>8610.000000</td>\n",
              "      <td>8610.000000</td>\n",
              "      <td>8610.000000</td>\n",
              "    </tr>\n",
              "    <tr>\n",
              "      <th>mean</th>\n",
              "      <td>1.072829e+09</td>\n",
              "      <td>3.424274</td>\n",
              "      <td>1.525784</td>\n",
              "      <td>46.088269</td>\n",
              "      <td>1.649826</td>\n",
              "      <td>1.939721</td>\n",
              "      <td>1.911498</td>\n",
              "      <td>1.619628</td>\n",
              "      <td>4.308981</td>\n",
              "      <td>1.956330</td>\n",
              "      <td>1.923461</td>\n",
              "      <td>1.942857</td>\n",
              "      <td>1.879443</td>\n",
              "      <td>4.150871</td>\n",
              "      <td>4.261324</td>\n",
              "      <td>4.506039</td>\n",
              "      <td>4.016492</td>\n",
              "      <td>3.606969</td>\n",
              "      <td>3.432288</td>\n",
              "      <td>5.245412</td>\n",
              "      <td>4.046690</td>\n",
              "      <td>3.849361</td>\n",
              "      <td>2.706272</td>\n",
              "      <td>3.461208</td>\n",
              "      <td>4.031243</td>\n",
              "      <td>2.754704</td>\n",
              "      <td>3.697909</td>\n",
              "      <td>3.871893</td>\n",
              "      <td>0.180488</td>\n",
              "    </tr>\n",
              "    <tr>\n",
              "      <th>std</th>\n",
              "      <td>6.189227e+08</td>\n",
              "      <td>2.008436</td>\n",
              "      <td>0.499364</td>\n",
              "      <td>14.727426</td>\n",
              "      <td>1.118760</td>\n",
              "      <td>0.238016</td>\n",
              "      <td>0.284040</td>\n",
              "      <td>0.485506</td>\n",
              "      <td>2.653107</td>\n",
              "      <td>0.204372</td>\n",
              "      <td>0.265874</td>\n",
              "      <td>0.232129</td>\n",
              "      <td>0.325631</td>\n",
              "      <td>1.850211</td>\n",
              "      <td>1.663113</td>\n",
              "      <td>1.868178</td>\n",
              "      <td>1.748492</td>\n",
              "      <td>1.900107</td>\n",
              "      <td>2.040678</td>\n",
              "      <td>1.872720</td>\n",
              "      <td>1.663155</td>\n",
              "      <td>1.873872</td>\n",
              "      <td>1.766552</td>\n",
              "      <td>1.829900</td>\n",
              "      <td>1.767684</td>\n",
              "      <td>1.753610</td>\n",
              "      <td>1.888003</td>\n",
              "      <td>2.048310</td>\n",
              "      <td>0.384616</td>\n",
              "    </tr>\n",
              "    <tr>\n",
              "      <th>min</th>\n",
              "      <td>3.652360e+05</td>\n",
              "      <td>1.000000</td>\n",
              "      <td>1.000000</td>\n",
              "      <td>18.000000</td>\n",
              "      <td>1.000000</td>\n",
              "      <td>1.000000</td>\n",
              "      <td>1.000000</td>\n",
              "      <td>1.000000</td>\n",
              "      <td>1.000000</td>\n",
              "      <td>1.000000</td>\n",
              "      <td>1.000000</td>\n",
              "      <td>1.000000</td>\n",
              "      <td>1.000000</td>\n",
              "      <td>1.000000</td>\n",
              "      <td>1.000000</td>\n",
              "      <td>1.000000</td>\n",
              "      <td>1.000000</td>\n",
              "      <td>1.000000</td>\n",
              "      <td>1.000000</td>\n",
              "      <td>1.000000</td>\n",
              "      <td>1.000000</td>\n",
              "      <td>1.000000</td>\n",
              "      <td>1.000000</td>\n",
              "      <td>1.000000</td>\n",
              "      <td>1.000000</td>\n",
              "      <td>1.000000</td>\n",
              "      <td>1.000000</td>\n",
              "      <td>1.000000</td>\n",
              "      <td>0.000000</td>\n",
              "    </tr>\n",
              "    <tr>\n",
              "      <th>25%</th>\n",
              "      <td>5.360256e+08</td>\n",
              "      <td>2.000000</td>\n",
              "      <td>1.000000</td>\n",
              "      <td>34.000000</td>\n",
              "      <td>1.000000</td>\n",
              "      <td>2.000000</td>\n",
              "      <td>2.000000</td>\n",
              "      <td>1.000000</td>\n",
              "      <td>2.000000</td>\n",
              "      <td>2.000000</td>\n",
              "      <td>2.000000</td>\n",
              "      <td>2.000000</td>\n",
              "      <td>2.000000</td>\n",
              "      <td>3.000000</td>\n",
              "      <td>3.000000</td>\n",
              "      <td>3.000000</td>\n",
              "      <td>3.000000</td>\n",
              "      <td>2.000000</td>\n",
              "      <td>1.000000</td>\n",
              "      <td>4.000000</td>\n",
              "      <td>3.000000</td>\n",
              "      <td>2.000000</td>\n",
              "      <td>1.000000</td>\n",
              "      <td>2.000000</td>\n",
              "      <td>3.000000</td>\n",
              "      <td>1.000000</td>\n",
              "      <td>2.000000</td>\n",
              "      <td>2.000000</td>\n",
              "      <td>0.000000</td>\n",
              "    </tr>\n",
              "    <tr>\n",
              "      <th>50%</th>\n",
              "      <td>1.079098e+09</td>\n",
              "      <td>3.000000</td>\n",
              "      <td>2.000000</td>\n",
              "      <td>46.000000</td>\n",
              "      <td>1.000000</td>\n",
              "      <td>2.000000</td>\n",
              "      <td>2.000000</td>\n",
              "      <td>2.000000</td>\n",
              "      <td>3.000000</td>\n",
              "      <td>2.000000</td>\n",
              "      <td>2.000000</td>\n",
              "      <td>2.000000</td>\n",
              "      <td>2.000000</td>\n",
              "      <td>5.000000</td>\n",
              "      <td>5.000000</td>\n",
              "      <td>5.000000</td>\n",
              "      <td>4.000000</td>\n",
              "      <td>4.000000</td>\n",
              "      <td>4.000000</td>\n",
              "      <td>6.000000</td>\n",
              "      <td>4.000000</td>\n",
              "      <td>4.000000</td>\n",
              "      <td>2.000000</td>\n",
              "      <td>4.000000</td>\n",
              "      <td>4.000000</td>\n",
              "      <td>2.000000</td>\n",
              "      <td>4.000000</td>\n",
              "      <td>4.000000</td>\n",
              "      <td>0.000000</td>\n",
              "    </tr>\n",
              "    <tr>\n",
              "      <th>75%</th>\n",
              "      <td>1.603533e+09</td>\n",
              "      <td>5.000000</td>\n",
              "      <td>2.000000</td>\n",
              "      <td>57.000000</td>\n",
              "      <td>2.000000</td>\n",
              "      <td>2.000000</td>\n",
              "      <td>2.000000</td>\n",
              "      <td>2.000000</td>\n",
              "      <td>5.000000</td>\n",
              "      <td>2.000000</td>\n",
              "      <td>2.000000</td>\n",
              "      <td>2.000000</td>\n",
              "      <td>2.000000</td>\n",
              "      <td>5.000000</td>\n",
              "      <td>5.000000</td>\n",
              "      <td>6.000000</td>\n",
              "      <td>5.000000</td>\n",
              "      <td>5.000000</td>\n",
              "      <td>5.000000</td>\n",
              "      <td>7.000000</td>\n",
              "      <td>5.000000</td>\n",
              "      <td>5.000000</td>\n",
              "      <td>4.000000</td>\n",
              "      <td>5.000000</td>\n",
              "      <td>5.000000</td>\n",
              "      <td>4.000000</td>\n",
              "      <td>5.000000</td>\n",
              "      <td>5.000000</td>\n",
              "      <td>0.000000</td>\n",
              "    </tr>\n",
              "    <tr>\n",
              "      <th>max</th>\n",
              "      <td>2.147087e+09</td>\n",
              "      <td>7.000000</td>\n",
              "      <td>2.000000</td>\n",
              "      <td>89.000000</td>\n",
              "      <td>5.000000</td>\n",
              "      <td>2.000000</td>\n",
              "      <td>2.000000</td>\n",
              "      <td>2.000000</td>\n",
              "      <td>10.000000</td>\n",
              "      <td>2.000000</td>\n",
              "      <td>2.000000</td>\n",
              "      <td>2.000000</td>\n",
              "      <td>2.000000</td>\n",
              "      <td>7.000000</td>\n",
              "      <td>7.000000</td>\n",
              "      <td>7.000000</td>\n",
              "      <td>7.000000</td>\n",
              "      <td>7.000000</td>\n",
              "      <td>7.000000</td>\n",
              "      <td>7.000000</td>\n",
              "      <td>7.000000</td>\n",
              "      <td>7.000000</td>\n",
              "      <td>7.000000</td>\n",
              "      <td>7.000000</td>\n",
              "      <td>7.000000</td>\n",
              "      <td>7.000000</td>\n",
              "      <td>7.000000</td>\n",
              "      <td>7.000000</td>\n",
              "      <td>1.000000</td>\n",
              "    </tr>\n",
              "  </tbody>\n",
              "</table>\n",
              "</div>"
            ],
            "text/plain": [
              "                 id         city  ...  difficulty_work   depression\n",
              "count  8.610000e+03  8610.000000  ...      8610.000000  8610.000000\n",
              "mean   1.072829e+09     3.424274  ...         3.871893     0.180488\n",
              "std    6.189227e+08     2.008436  ...         2.048310     0.384616\n",
              "min    3.652360e+05     1.000000  ...         1.000000     0.000000\n",
              "25%    5.360256e+08     2.000000  ...         2.000000     0.000000\n",
              "50%    1.079098e+09     3.000000  ...         4.000000     0.000000\n",
              "75%    1.603533e+09     5.000000  ...         5.000000     0.000000\n",
              "max    2.147087e+09     7.000000  ...         7.000000     1.000000\n",
              "\n",
              "[8 rows x 29 columns]"
            ]
          },
          "metadata": {
            "tags": []
          },
          "execution_count": 29
        }
      ]
    },
    {
      "cell_type": "code",
      "metadata": {
        "id": "XOGH2feuZzJM"
      },
      "source": [
        "#df.isna().sum()"
      ],
      "execution_count": null,
      "outputs": []
    },
    {
      "cell_type": "markdown",
      "metadata": {
        "id": "1FHtOmFViUeo"
      },
      "source": [
        "**Removing NaN / NULL vales from the data**\r\n",
        "\r\n",
        "\r\n"
      ]
    },
    {
      "cell_type": "code",
      "metadata": {
        "colab": {
          "base_uri": "https://localhost:8080/"
        },
        "id": "7WBJvd9daU0C",
        "outputId": "98e6249a-d1e9-4491-9e2d-d04d4c04352d"
      },
      "source": [
        "\r\n",
        "df.shape\r\n",
        "\r\n",
        "#Removing NaN / NULL vales from the data\r\n",
        "df.dropna(axis = 0, inplace = True) \r\n",
        "print(df.shape)"
      ],
      "execution_count": null,
      "outputs": [
        {
          "output_type": "stream",
          "text": [
            "(7282, 29)\n"
          ],
          "name": "stdout"
        }
      ]
    },
    {
      "cell_type": "code",
      "metadata": {
        "id": "F0twinEwwAtd"
      },
      "source": [
        ""
      ],
      "execution_count": null,
      "outputs": []
    },
    {
      "cell_type": "markdown",
      "metadata": {
        "id": "mkxcFEx6ejIj"
      },
      "source": [
        "# Descriptive analysis\r\n"
      ]
    },
    {
      "cell_type": "code",
      "metadata": {
        "colab": {
          "base_uri": "https://localhost:8080/",
          "height": 1000
        },
        "id": "m6sdO6KPwCFP",
        "outputId": "335e5a39-510d-44a4-e281-44ec87800874"
      },
      "source": [
        "import scipy as sp\r\n",
        "in_vars=list(df.keys())\r\n",
        "mean_list=[]\r\n",
        "median_list=[]\r\n",
        "for var in in_vars:\r\n",
        "  mean=sp.mean(df[var]) # mean determination\r\n",
        "  median=sp.median(df[var]) # median determination\r\n",
        "  mode=sp.stats.mode(df[var]) #mode determination\r\n",
        "  print(var,' mean=', mean,' median=',median, '\\n mode=', mode)\r\n",
        "  mean_list.append(mean)\r\n",
        "  median_list.append(median)\r\n",
        "plt.plot(mean_list,median_list) #plotting mean vs median"
      ],
      "execution_count": 311,
      "outputs": [
        {
          "output_type": "stream",
          "text": [
            "id  mean= 1074870172.040099  median= 1082064054.0 \n",
            " mode= ModeResult(mode=array([365236]), count=array([1]))\n",
            "city  mean= 3.420626201592969  median= 3.0 \n",
            " mode= ModeResult(mode=array([1]), count=array([1806]))\n",
            "gender  mean= 1.486404833836858  median= 1.0 \n",
            " mode= ModeResult(mode=array([1]), count=array([3740]))\n",
            "age  mean= 47.20873386432299  median= 47.0 \n",
            " mode= ModeResult(mode=array([46]), count=array([213]))\n",
            "job  mean= 1.648860203240868  median= 1.0 \n",
            " mode= ModeResult(mode=array([1]), count=array([4962]))\n",
            "health_worker_self  mean= 1.9436967865970887  median= 2.0 \n",
            " mode= ModeResult(mode=array([2]), count=array([6872]))\n",
            "health_worker_family  mean= 1.9130733315023345  median= 2.0 \n",
            " mode= ModeResult(mode=array([2]), count=array([6649]))\n",
            "family_status  mean= 1.6286734413622632  median= 2.0 \n",
            " mode= ModeResult(mode=array([2]), count=array([4578]))\n",
            "income_group  mean= 4.308981049162318  median= 3.0 \n",
            " mode= ModeResult(mode=array([3.]), count=array([1684]))\n",
            "current_physical  mean= 1.9522109310628948  median= 2.0 \n",
            " mode= ModeResult(mode=array([2]), count=array([6934]))\n",
            "past_physical  mean= 1.9165064542708048  median= 2.0 \n",
            " mode= ModeResult(mode=array([2]), count=array([6674]))\n",
            "current_mental  mean= 1.941362263114529  median= 2.0 \n",
            " mode= ModeResult(mode=array([2]), count=array([6855]))\n",
            "past_mental  mean= 1.8802526778357593  median= 2.0 \n",
            " mode= ModeResult(mode=array([2]), count=array([6410]))\n",
            "exercise  mean= 4.140758033507278  median= 5.0 \n",
            " mode= ModeResult(mode=array([5]), count=array([1924]))\n",
            "healthy_diet  mean= 4.24773413897281  median= 4.0 \n",
            " mode= ModeResult(mode=array([5]), count=array([2032]))\n",
            "healthy_sleep  mean= 4.525542433397418  median= 5.0 \n",
            " mode= ModeResult(mode=array([5]), count=array([1432]))\n",
            "activity  mean= 4.014419115627575  median= 4.0 \n",
            " mode= ModeResult(mode=array([4]), count=array([1739]))\n",
            "interaction_offline  mean= 3.612469101895084  median= 4.0 \n",
            " mode= ModeResult(mode=array([4]), count=array([1529]))\n",
            "interaction_online  mean= 3.39975281516067  median= 4.0 \n",
            " mode= ModeResult(mode=array([1]), count=array([2207]))\n",
            "preventive_behaviors  mean= 5.199807745124966  median= 6.0 \n",
            " mode= ModeResult(mode=array([7]), count=array([2517]))\n",
            "optimism  mean= 4.032957978577314  median= 4.0 \n",
            " mode= ModeResult(mode=array([4]), count=array([2235]))\n",
            "deterioration_economy  mean= 3.8243614391650644  median= 4.0 \n",
            " mode= ModeResult(mode=array([4]), count=array([1852]))\n",
            "deterioration_interact  mean= 2.7117550123592418  median= 2.0 \n",
            " mode= ModeResult(mode=array([1]), count=array([2848]))\n",
            "frustration  mean= 3.424196649272178  median= 4.0 \n",
            " mode= ModeResult(mode=array([1]), count=array([1664]))\n",
            "covid_anxiety  mean= 3.993408404284537  median= 4.0 \n",
            " mode= ModeResult(mode=array([5]), count=array([2045]))\n",
            "covid_sleepless  mean= 2.746772864597638  median= 2.0 \n",
            " mode= ModeResult(mode=array([1]), count=array([2611]))\n",
            "difficulty_living  mean= 3.6525679758308156  median= 4.0 \n",
            " mode= ModeResult(mode=array([5]), count=array([1450]))\n",
            "difficulty_work  mean= 3.822438890414721  median= 4.0 \n",
            " mode= ModeResult(mode=array([1]), count=array([1536]))\n",
            "depression  mean= 0.178110409228234  median= 0.0 \n",
            " mode= ModeResult(mode=array([0]), count=array([5985]))\n"
          ],
          "name": "stdout"
        },
        {
          "output_type": "execute_result",
          "data": {
            "text/plain": [
              "[<matplotlib.lines.Line2D at 0x7f1ee1fa43c8>]"
            ]
          },
          "metadata": {
            "tags": []
          },
          "execution_count": 311
        },
        {
          "output_type": "display_data",
          "data": {
            "image/png": "[encoded data removed]",
            "text/plain": [
              "<Figure size 432x288 with 1 Axes>"
            ]
          },
          "metadata": {
            "tags": [],
            "needs_background": "light"
          }
        }
      ]
    },
    {
      "cell_type": "code",
      "metadata": {
        "id": "Q03T4eCuwdXB"
      },
      "source": [
        " # pearson correlation identification between features and depression"
      ],
      "execution_count": 313,
      "outputs": []
    },
    {
      "cell_type": "code",
      "metadata": {
        "colab": {
          "base_uri": "https://localhost:8080/",
          "height": 1000
        },
        "id": "jGSC_XeAwVKn",
        "outputId": "a2e7942f-ad67-4c4a-d2c0-eb5c19aa6d40"
      },
      "source": [
        "from scipy.stats import pearsonr\r\n",
        "in_vars=list(df.keys())\r\n",
        "in_vars.pop(len(in_vars)-1) # Popoe out 'depression' column\r\n",
        "co=[]\r\n",
        "print(in_vars)\r\n",
        "for var in in_vars:\r\n",
        "  corr, p = pearsonr(df[var], df['depression']) # pearson correlation identification between features and depression\r\n",
        "  print('Pearsons correlation: %.3f' % corr,'pvalu %.9f' % p, var) \r\n",
        "  co.append(corr)\r\n",
        "  if corr<.05:\r\n",
        "    print(var)\r\n",
        "plt.hist(co)"
      ],
      "execution_count": 324,
      "outputs": [
        {
          "output_type": "stream",
          "text": [
            "['id', 'city', 'gender', 'age', 'job', 'health_worker_self', 'health_worker_family', 'family_status', 'income_group', 'current_physical', 'past_physical', 'current_mental', 'past_mental', 'exercise', 'healthy_diet', 'healthy_sleep', 'activity', 'interaction_offline', 'interaction_online', 'preventive_behaviors', 'optimism', 'deterioration_economy', 'deterioration_interact', 'frustration', 'covid_anxiety', 'covid_sleepless', 'difficulty_living', 'difficulty_work']\n",
            "Pearsons correlation: 0.027 pvalu 0.023294414 id\n",
            "id\n",
            "Pearsons correlation: 0.015 pvalu 0.203734814 city\n",
            "city\n",
            "Pearsons correlation: 0.035 pvalu 0.002601722 gender\n",
            "gender\n",
            "Pearsons correlation: -0.142 pvalu 0.000000000 age\n",
            "age\n",
            "Pearsons correlation: -0.007 pvalu 0.541186033 job\n",
            "job\n",
            "Pearsons correlation: -0.026 pvalu 0.024101358 health_worker_self\n",
            "health_worker_self\n",
            "Pearsons correlation: -0.009 pvalu 0.430265373 health_worker_family\n",
            "health_worker_family\n",
            "Pearsons correlation: -0.131 pvalu 0.000000000 family_status\n",
            "family_status\n",
            "Pearsons correlation: -0.015 pvalu 0.201088805 income_group\n",
            "income_group\n",
            "Pearsons correlation: -0.030 pvalu 0.009678608 current_physical\n",
            "current_physical\n",
            "Pearsons correlation: -0.036 pvalu 0.002151993 past_physical\n",
            "past_physical\n",
            "Pearsons correlation: -0.244 pvalu 0.000000000 current_mental\n",
            "current_mental\n",
            "Pearsons correlation: -0.199 pvalu 0.000000000 past_mental\n",
            "past_mental\n",
            "Pearsons correlation: -0.083 pvalu 0.000000000 exercise\n",
            "exercise\n",
            "Pearsons correlation: -0.092 pvalu 0.000000000 healthy_diet\n",
            "healthy_diet\n",
            "Pearsons correlation: -0.138 pvalu 0.000000000 healthy_sleep\n",
            "healthy_sleep\n",
            "Pearsons correlation: -0.103 pvalu 0.000000000 activity\n",
            "activity\n",
            "Pearsons correlation: -0.041 pvalu 0.000426769 interaction_offline\n",
            "interaction_offline\n",
            "Pearsons correlation: -0.040 pvalu 0.000671365 interaction_online\n",
            "interaction_online\n",
            "Pearsons correlation: -0.045 pvalu 0.000133661 preventive_behaviors\n",
            "preventive_behaviors\n",
            "Pearsons correlation: -0.150 pvalu 0.000000000 optimism\n",
            "optimism\n",
            "Pearsons correlation: 0.155 pvalu 0.000000000 deterioration_economy\n",
            "Pearsons correlation: 0.214 pvalu 0.000000000 deterioration_interact\n",
            "Pearsons correlation: 0.253 pvalu 0.000000000 frustration\n",
            "Pearsons correlation: 0.143 pvalu 0.000000000 covid_anxiety\n",
            "Pearsons correlation: 0.197 pvalu 0.000000000 covid_sleepless\n",
            "Pearsons correlation: 0.152 pvalu 0.000000000 difficulty_living\n",
            "Pearsons correlation: 0.145 pvalu 0.000000000 difficulty_work\n"
          ],
          "name": "stdout"
        },
        {
          "output_type": "execute_result",
          "data": {
            "text/plain": [
              "(array([2., 1., 4., 2., 9., 3., 0., 3., 2., 2.]),\n",
              " array([-0.2443468 , -0.19463313, -0.14491947, -0.09520581, -0.04549215,\n",
              "         0.00422151,  0.05393517,  0.10364883,  0.15336249,  0.20307615,\n",
              "         0.25278981]),\n",
              " <a list of 10 Patch objects>)"
            ]
          },
          "metadata": {
            "tags": []
          },
          "execution_count": 324
        },
        {
          "output_type": "display_data",
          "data": {
            "image/png": "[encoded data removed]",
            "text/plain": [
              "<Figure size 432x288 with 1 Axes>"
            ]
          },
          "metadata": {
            "tags": [],
            "needs_background": "light"
          }
        }
      ]
    },
    {
      "cell_type": "code",
      "metadata": {
        "id": "Guj9p-Buw1AM"
      },
      "source": [
        " # spearman correlation identification between features and depression"
      ],
      "execution_count": 315,
      "outputs": []
    },
    {
      "cell_type": "code",
      "metadata": {
        "colab": {
          "base_uri": "https://localhost:8080/",
          "height": 903
        },
        "id": "k7n1WnDYwguU",
        "outputId": "7641bb4f-6e72-4262-fb41-49a9b05533fa"
      },
      "source": [
        "\r\n",
        "from scipy.stats import spearmanr\r\n",
        "in_vars=list(df.keys())\r\n",
        "in_vars.pop(len(in_vars)-1) # Popoe out 'depression' column\r\n",
        "print(in_vars)\r\n",
        "pv=[]\r\n",
        "co1=[]\r\n",
        "for var in in_vars:\r\n",
        "  corr, p = spearmanr(df[var], df['depression']) # spearman correlation identification between features and depression\r\n",
        "  #pv.append(p)\r\n",
        "  co1.append(corr)\r\n",
        "\r\n",
        "  print('Spearman correlation: %.3f' % corr,'pvalu %.11f' % p, var) \r\n",
        "  #if corr<.05:\r\n",
        "    #print(var)\r\n",
        "plt.hist(co1)"
      ],
      "execution_count": 320,
      "outputs": [
        {
          "output_type": "stream",
          "text": [
            "['id', 'city', 'gender', 'age', 'job', 'health_worker_self', 'health_worker_family', 'family_status', 'income_group', 'current_physical', 'past_physical', 'current_mental', 'past_mental', 'exercise', 'healthy_diet', 'healthy_sleep', 'activity', 'interaction_offline', 'interaction_online', 'preventive_behaviors', 'optimism', 'deterioration_economy', 'deterioration_interact', 'frustration', 'covid_anxiety', 'covid_sleepless', 'difficulty_living', 'difficulty_work']\n",
            "Spearman correlation: 0.027 pvalu 0.02328547354 id\n",
            "Spearman correlation: 0.017 pvalu 0.14231944192 city\n",
            "Spearman correlation: 0.035 pvalu 0.00260172219 gender\n",
            "Spearman correlation: -0.137 pvalu 0.00000000000 age\n",
            "Spearman correlation: -0.016 pvalu 0.16253592530 job\n",
            "Spearman correlation: -0.026 pvalu 0.02410135816 health_worker_self\n",
            "Spearman correlation: -0.009 pvalu 0.43026537349 health_worker_family\n",
            "Spearman correlation: -0.131 pvalu 0.00000000000 family_status\n",
            "Spearman correlation: -0.044 pvalu 0.00014551153 income_group\n",
            "Spearman correlation: -0.030 pvalu 0.00967860754 current_physical\n",
            "Spearman correlation: -0.036 pvalu 0.00215199350 past_physical\n",
            "Spearman correlation: -0.244 pvalu 0.00000000000 current_mental\n",
            "Spearman correlation: -0.199 pvalu 0.00000000000 past_mental\n",
            "Spearman correlation: -0.084 pvalu 0.00000000000 exercise\n",
            "Spearman correlation: -0.099 pvalu 0.00000000000 healthy_diet\n",
            "Spearman correlation: -0.138 pvalu 0.00000000000 healthy_sleep\n",
            "Spearman correlation: -0.102 pvalu 0.00000000000 activity\n",
            "Spearman correlation: -0.041 pvalu 0.00045451262 interaction_offline\n",
            "Spearman correlation: -0.039 pvalu 0.00088841203 interaction_online\n",
            "Spearman correlation: -0.050 pvalu 0.00002021731 preventive_behaviors\n",
            "Spearman correlation: -0.149 pvalu 0.00000000000 optimism\n",
            "Spearman correlation: 0.150 pvalu 0.00000000000 deterioration_economy\n",
            "Spearman correlation: 0.213 pvalu 0.00000000000 deterioration_interact\n",
            "Spearman correlation: 0.247 pvalu 0.00000000000 frustration\n",
            "Spearman correlation: 0.139 pvalu 0.00000000000 covid_anxiety\n",
            "Spearman correlation: 0.197 pvalu 0.00000000000 covid_sleepless\n",
            "Spearman correlation: 0.147 pvalu 0.00000000000 difficulty_living\n",
            "Spearman correlation: 0.142 pvalu 0.00000000000 difficulty_work\n"
          ],
          "name": "stdout"
        },
        {
          "output_type": "execute_result",
          "data": {
            "text/plain": [
              "(array([2., 1., 5., 2., 8., 3., 0., 3., 2., 2.]),\n",
              " array([-0.2443468 , -0.19525461, -0.14616243, -0.09707024, -0.04797806,\n",
              "         0.00111413,  0.05020631,  0.0992985 ,  0.14839068,  0.19748287,\n",
              "         0.24657505]),\n",
              " <a list of 10 Patch objects>)"
            ]
          },
          "metadata": {
            "tags": []
          },
          "execution_count": 320
        },
        {
          "output_type": "display_data",
          "data": {
            "image/png": "[encoded data removed]",
            "text/plain": [
              "<Figure size 432x288 with 1 Axes>"
            ]
          },
          "metadata": {
            "tags": [],
            "needs_background": "light"
          }
        }
      ]
    },
    {
      "cell_type": "code",
      "metadata": {
        "id": "j924M9HwxoVu"
      },
      "source": [
        "# Independent t-test"
      ],
      "execution_count": 322,
      "outputs": []
    },
    {
      "cell_type": "code",
      "metadata": {
        "colab": {
          "base_uri": "https://localhost:8080/"
        },
        "id": "lf-cdH68xbVs",
        "outputId": "eb8bb126-d26a-4e63-8550-5ac46b35155d"
      },
      "source": [
        "from scipy.stats import ttest_ind\r\n",
        "in_vars=list(df.keys())\r\n",
        "in_vars.pop(len(in_vars)-1) # Popoe out 'depression' column\r\n",
        "print(in_vars)\r\n",
        "for var in in_vars:\r\n",
        "  st,pvalue= ttest_ind(df[var], df['depression']) # Independent t-test\r\n",
        "  print('statistic=',st, var)\r\n"
      ],
      "execution_count": 323,
      "outputs": [
        {
          "output_type": "stream",
          "text": [
            "['id', 'city', 'gender', 'age', 'job', 'health_worker_self', 'health_worker_family', 'family_status', 'income_group', 'current_physical', 'past_physical', 'current_mental', 'past_mental', 'exercise', 'healthy_diet', 'healthy_sleep', 'activity', 'interaction_offline', 'interaction_online', 'preventive_behaviors', 'optimism', 'deterioration_economy', 'deterioration_interact', 'frustration', 'covid_anxiety', 'covid_sleepless', 'difficulty_living', 'difficulty_work']\n",
            "statistic= 148.3437718428841 id\n",
            "statistic= 135.17798182296366 city\n",
            "statistic= 177.35462990194904 gender\n",
            "statistic= 273.18701332392 age\n",
            "statistic= 105.08815248319775 job\n",
            "statistic= 337.28031243854025 health_worker_self\n",
            "statistic= 311.57643673246463 health_worker_family\n",
            "statistic= 200.8340533637749 family_status\n",
            "statistic= 131.50489854423554 income_group\n",
            "statistic= 345.5770486286938 current_physical\n",
            "statistic= 314.18104951857833 past_physical\n",
            "statistic= 335.1036842404385 current_mental\n",
            "statistic= 289.4461835960495 past_mental\n",
            "statistic= 178.90816946424926 exercise\n",
            "statistic= 203.39018798038978 healthy_diet\n",
            "statistic= 195.036070338753 healthy_sleep\n",
            "statistic= 183.24039831266785 activity\n",
            "statistic= 151.94661604058385 interaction_offline\n",
            "statistic= 133.00896577217952 interaction_online\n",
            "statistic= 223.5500798919047 preventive_behaviors\n",
            "statistic= 193.7130788704888 optimism\n",
            "statistic= 163.34210268077334 deterioration_economy\n",
            "statistic= 119.7768576957839 deterioration_interact\n",
            "statistic= 148.3818901198785 frustration\n",
            "statistic= 180.04904821964377 covid_anxiety\n",
            "statistic= 122.68744211666699 covid_sleepless\n",
            "statistic= 154.04919696218892 difficulty_living\n",
            "statistic= 149.99756467802337 difficulty_work\n"
          ],
          "name": "stdout"
        }
      ]
    },
    {
      "cell_type": "markdown",
      "metadata": {
        "id": "7amZTtticfl-"
      },
      "source": [
        "**Data Visulaization**"
      ]
    },
    {
      "cell_type": "code",
      "metadata": {
        "colab": {
          "base_uri": "https://localhost:8080/",
          "height": 937
        },
        "id": "xdUkdtsHckLE",
        "outputId": "093b22ef-9293-4e3a-ab0b-86a7106458b7"
      },
      "source": [
        "#correlation\r\n",
        "df.corr()"
      ],
      "execution_count": null,
      "outputs": [
        {
          "output_type": "execute_result",
          "data": {
            "text/html": [
              "<div>\n",
              "<style scoped>\n",
              "    .dataframe tbody tr th:only-of-type {\n",
              "        vertical-align: middle;\n",
              "    }\n",
              "\n",
              "    .dataframe tbody tr th {\n",
              "        vertical-align: top;\n",
              "    }\n",
              "\n",
              "    .dataframe thead th {\n",
              "        text-align: right;\n",
              "    }\n",
              "</style>\n",
              "<table border=\"1\" class=\"dataframe\">\n",
              "  <thead>\n",
              "    <tr style=\"text-align: right;\">\n",
              "      <th></th>\n",
              "      <th>id</th>\n",
              "      <th>city</th>\n",
              "      <th>gender</th>\n",
              "      <th>age</th>\n",
              "      <th>job</th>\n",
              "      <th>health_worker_self</th>\n",
              "      <th>health_worker_family</th>\n",
              "      <th>family_status</th>\n",
              "      <th>income_group</th>\n",
              "      <th>current_physical</th>\n",
              "      <th>past_physical</th>\n",
              "      <th>current_mental</th>\n",
              "      <th>past_mental</th>\n",
              "      <th>exercise</th>\n",
              "      <th>healthy_diet</th>\n",
              "      <th>healthy_sleep</th>\n",
              "      <th>activity</th>\n",
              "      <th>interaction_offline</th>\n",
              "      <th>interaction_online</th>\n",
              "      <th>preventive_behaviors</th>\n",
              "      <th>optimism</th>\n",
              "      <th>deterioration_economy</th>\n",
              "      <th>deterioration_interact</th>\n",
              "      <th>frustration</th>\n",
              "      <th>covid_anxiety</th>\n",
              "      <th>covid_sleepless</th>\n",
              "      <th>difficulty_living</th>\n",
              "      <th>difficulty_work</th>\n",
              "      <th>depression</th>\n",
              "    </tr>\n",
              "  </thead>\n",
              "  <tbody>\n",
              "    <tr>\n",
              "      <th>id</th>\n",
              "      <td>1.000000</td>\n",
              "      <td>-0.016618</td>\n",
              "      <td>0.004887</td>\n",
              "      <td>-0.016239</td>\n",
              "      <td>0.007736</td>\n",
              "      <td>-0.019556</td>\n",
              "      <td>-0.012002</td>\n",
              "      <td>-0.021709</td>\n",
              "      <td>0.012125</td>\n",
              "      <td>0.027200</td>\n",
              "      <td>0.005296</td>\n",
              "      <td>0.009515</td>\n",
              "      <td>-0.000279</td>\n",
              "      <td>0.009486</td>\n",
              "      <td>0.002712</td>\n",
              "      <td>0.000462</td>\n",
              "      <td>0.004313</td>\n",
              "      <td>0.007798</td>\n",
              "      <td>-0.001610</td>\n",
              "      <td>-0.009878</td>\n",
              "      <td>0.006236</td>\n",
              "      <td>0.013090</td>\n",
              "      <td>0.014574</td>\n",
              "      <td>0.008977</td>\n",
              "      <td>0.007507</td>\n",
              "      <td>0.008582</td>\n",
              "      <td>0.005464</td>\n",
              "      <td>-0.020455</td>\n",
              "      <td>0.026584</td>\n",
              "    </tr>\n",
              "    <tr>\n",
              "      <th>city</th>\n",
              "      <td>-0.016618</td>\n",
              "      <td>1.000000</td>\n",
              "      <td>0.033771</td>\n",
              "      <td>-0.019019</td>\n",
              "      <td>0.020680</td>\n",
              "      <td>-0.027716</td>\n",
              "      <td>-0.040665</td>\n",
              "      <td>0.028606</td>\n",
              "      <td>-0.081207</td>\n",
              "      <td>-0.003401</td>\n",
              "      <td>-0.016853</td>\n",
              "      <td>0.002211</td>\n",
              "      <td>0.015732</td>\n",
              "      <td>-0.038050</td>\n",
              "      <td>-0.046908</td>\n",
              "      <td>-0.013150</td>\n",
              "      <td>-0.017502</td>\n",
              "      <td>0.022835</td>\n",
              "      <td>-0.036735</td>\n",
              "      <td>-0.016800</td>\n",
              "      <td>-0.014199</td>\n",
              "      <td>0.011199</td>\n",
              "      <td>0.001545</td>\n",
              "      <td>0.012174</td>\n",
              "      <td>0.001824</td>\n",
              "      <td>0.006600</td>\n",
              "      <td>0.004243</td>\n",
              "      <td>-0.023971</td>\n",
              "      <td>0.014896</td>\n",
              "    </tr>\n",
              "    <tr>\n",
              "      <th>gender</th>\n",
              "      <td>0.004887</td>\n",
              "      <td>0.033771</td>\n",
              "      <td>1.000000</td>\n",
              "      <td>-0.325932</td>\n",
              "      <td>-0.002735</td>\n",
              "      <td>-0.086504</td>\n",
              "      <td>-0.008880</td>\n",
              "      <td>-0.060142</td>\n",
              "      <td>0.035480</td>\n",
              "      <td>0.102097</td>\n",
              "      <td>0.101044</td>\n",
              "      <td>-0.003865</td>\n",
              "      <td>-0.046422</td>\n",
              "      <td>0.030051</td>\n",
              "      <td>0.118976</td>\n",
              "      <td>0.001553</td>\n",
              "      <td>0.029432</td>\n",
              "      <td>0.000238</td>\n",
              "      <td>0.119865</td>\n",
              "      <td>0.170170</td>\n",
              "      <td>0.055181</td>\n",
              "      <td>0.040214</td>\n",
              "      <td>-0.040659</td>\n",
              "      <td>0.114212</td>\n",
              "      <td>0.170918</td>\n",
              "      <td>0.036202</td>\n",
              "      <td>0.119830</td>\n",
              "      <td>0.097078</td>\n",
              "      <td>0.035283</td>\n",
              "    </tr>\n",
              "    <tr>\n",
              "      <th>age</th>\n",
              "      <td>-0.016239</td>\n",
              "      <td>-0.019019</td>\n",
              "      <td>-0.325932</td>\n",
              "      <td>1.000000</td>\n",
              "      <td>0.196598</td>\n",
              "      <td>0.105625</td>\n",
              "      <td>0.068150</td>\n",
              "      <td>0.318086</td>\n",
              "      <td>-0.043825</td>\n",
              "      <td>-0.153755</td>\n",
              "      <td>-0.202328</td>\n",
              "      <td>0.042873</td>\n",
              "      <td>0.091480</td>\n",
              "      <td>0.025844</td>\n",
              "      <td>0.060329</td>\n",
              "      <td>0.161474</td>\n",
              "      <td>-0.012368</td>\n",
              "      <td>-0.002627</td>\n",
              "      <td>-0.140673</td>\n",
              "      <td>-0.035952</td>\n",
              "      <td>0.015482</td>\n",
              "      <td>-0.079430</td>\n",
              "      <td>-0.035540</td>\n",
              "      <td>-0.139565</td>\n",
              "      <td>-0.094388</td>\n",
              "      <td>-0.036527</td>\n",
              "      <td>-0.101611</td>\n",
              "      <td>-0.200135</td>\n",
              "      <td>-0.141559</td>\n",
              "    </tr>\n",
              "    <tr>\n",
              "      <th>job</th>\n",
              "      <td>0.007736</td>\n",
              "      <td>0.020680</td>\n",
              "      <td>-0.002735</td>\n",
              "      <td>0.196598</td>\n",
              "      <td>1.000000</td>\n",
              "      <td>0.068479</td>\n",
              "      <td>0.006777</td>\n",
              "      <td>-0.056149</td>\n",
              "      <td>-0.014639</td>\n",
              "      <td>-0.078642</td>\n",
              "      <td>-0.118261</td>\n",
              "      <td>-0.061452</td>\n",
              "      <td>-0.028862</td>\n",
              "      <td>-0.006105</td>\n",
              "      <td>0.053947</td>\n",
              "      <td>0.023052</td>\n",
              "      <td>0.032339</td>\n",
              "      <td>-0.012196</td>\n",
              "      <td>-0.010629</td>\n",
              "      <td>0.014795</td>\n",
              "      <td>-0.010179</td>\n",
              "      <td>-0.046001</td>\n",
              "      <td>-0.024984</td>\n",
              "      <td>-0.045068</td>\n",
              "      <td>-0.008164</td>\n",
              "      <td>-0.013739</td>\n",
              "      <td>-0.048617</td>\n",
              "      <td>-0.124161</td>\n",
              "      <td>-0.007161</td>\n",
              "    </tr>\n",
              "    <tr>\n",
              "      <th>health_worker_self</th>\n",
              "      <td>-0.019556</td>\n",
              "      <td>-0.027716</td>\n",
              "      <td>-0.086504</td>\n",
              "      <td>0.105625</td>\n",
              "      <td>0.068479</td>\n",
              "      <td>1.000000</td>\n",
              "      <td>0.265092</td>\n",
              "      <td>0.016962</td>\n",
              "      <td>-0.015566</td>\n",
              "      <td>0.006721</td>\n",
              "      <td>0.018882</td>\n",
              "      <td>0.027788</td>\n",
              "      <td>0.032853</td>\n",
              "      <td>0.003770</td>\n",
              "      <td>0.015958</td>\n",
              "      <td>0.021575</td>\n",
              "      <td>0.005774</td>\n",
              "      <td>-0.008474</td>\n",
              "      <td>-0.017042</td>\n",
              "      <td>-0.006369</td>\n",
              "      <td>-0.020702</td>\n",
              "      <td>-0.009263</td>\n",
              "      <td>-0.006478</td>\n",
              "      <td>-0.038828</td>\n",
              "      <td>-0.004619</td>\n",
              "      <td>-0.005743</td>\n",
              "      <td>-0.029517</td>\n",
              "      <td>0.010585</td>\n",
              "      <td>-0.026431</td>\n",
              "    </tr>\n",
              "    <tr>\n",
              "      <th>health_worker_family</th>\n",
              "      <td>-0.012002</td>\n",
              "      <td>-0.040665</td>\n",
              "      <td>-0.008880</td>\n",
              "      <td>0.068150</td>\n",
              "      <td>0.006777</td>\n",
              "      <td>0.265092</td>\n",
              "      <td>1.000000</td>\n",
              "      <td>-0.031325</td>\n",
              "      <td>-0.045275</td>\n",
              "      <td>0.024563</td>\n",
              "      <td>0.039028</td>\n",
              "      <td>0.012204</td>\n",
              "      <td>0.042338</td>\n",
              "      <td>-0.007348</td>\n",
              "      <td>0.003754</td>\n",
              "      <td>0.006715</td>\n",
              "      <td>0.003388</td>\n",
              "      <td>-0.019161</td>\n",
              "      <td>-0.027109</td>\n",
              "      <td>-0.007662</td>\n",
              "      <td>-0.026558</td>\n",
              "      <td>0.004394</td>\n",
              "      <td>0.014519</td>\n",
              "      <td>-0.007866</td>\n",
              "      <td>-0.016597</td>\n",
              "      <td>-0.003992</td>\n",
              "      <td>-0.008250</td>\n",
              "      <td>-0.005597</td>\n",
              "      <td>-0.009244</td>\n",
              "    </tr>\n",
              "    <tr>\n",
              "      <th>family_status</th>\n",
              "      <td>-0.021709</td>\n",
              "      <td>0.028606</td>\n",
              "      <td>-0.060142</td>\n",
              "      <td>0.318086</td>\n",
              "      <td>-0.056149</td>\n",
              "      <td>0.016962</td>\n",
              "      <td>-0.031325</td>\n",
              "      <td>1.000000</td>\n",
              "      <td>0.080725</td>\n",
              "      <td>-0.013619</td>\n",
              "      <td>-0.026474</td>\n",
              "      <td>0.091267</td>\n",
              "      <td>0.091223</td>\n",
              "      <td>0.062902</td>\n",
              "      <td>0.078041</td>\n",
              "      <td>0.129068</td>\n",
              "      <td>-0.028669</td>\n",
              "      <td>0.101058</td>\n",
              "      <td>-0.009665</td>\n",
              "      <td>0.022287</td>\n",
              "      <td>0.076301</td>\n",
              "      <td>-0.068685</td>\n",
              "      <td>-0.034548</td>\n",
              "      <td>-0.007774</td>\n",
              "      <td>-0.009461</td>\n",
              "      <td>-0.017872</td>\n",
              "      <td>-0.004288</td>\n",
              "      <td>-0.061534</td>\n",
              "      <td>-0.131033</td>\n",
              "    </tr>\n",
              "    <tr>\n",
              "      <th>income_group</th>\n",
              "      <td>0.012125</td>\n",
              "      <td>-0.081207</td>\n",
              "      <td>0.035480</td>\n",
              "      <td>-0.043825</td>\n",
              "      <td>-0.014639</td>\n",
              "      <td>-0.015566</td>\n",
              "      <td>-0.045275</td>\n",
              "      <td>0.080725</td>\n",
              "      <td>1.000000</td>\n",
              "      <td>0.023908</td>\n",
              "      <td>0.020558</td>\n",
              "      <td>0.028627</td>\n",
              "      <td>0.037218</td>\n",
              "      <td>0.028200</td>\n",
              "      <td>0.033399</td>\n",
              "      <td>0.008433</td>\n",
              "      <td>0.033211</td>\n",
              "      <td>0.067938</td>\n",
              "      <td>0.025042</td>\n",
              "      <td>0.006461</td>\n",
              "      <td>0.035258</td>\n",
              "      <td>-0.046406</td>\n",
              "      <td>0.026720</td>\n",
              "      <td>0.012538</td>\n",
              "      <td>-0.004281</td>\n",
              "      <td>0.005065</td>\n",
              "      <td>-0.021744</td>\n",
              "      <td>0.021785</td>\n",
              "      <td>-0.014983</td>\n",
              "    </tr>\n",
              "    <tr>\n",
              "      <th>current_physical</th>\n",
              "      <td>0.027200</td>\n",
              "      <td>-0.003401</td>\n",
              "      <td>0.102097</td>\n",
              "      <td>-0.153755</td>\n",
              "      <td>-0.078642</td>\n",
              "      <td>0.006721</td>\n",
              "      <td>0.024563</td>\n",
              "      <td>-0.013619</td>\n",
              "      <td>0.023908</td>\n",
              "      <td>1.000000</td>\n",
              "      <td>0.362906</td>\n",
              "      <td>0.086568</td>\n",
              "      <td>0.046255</td>\n",
              "      <td>0.029907</td>\n",
              "      <td>-0.005335</td>\n",
              "      <td>-0.014896</td>\n",
              "      <td>0.015501</td>\n",
              "      <td>0.013670</td>\n",
              "      <td>0.012397</td>\n",
              "      <td>0.011493</td>\n",
              "      <td>0.014191</td>\n",
              "      <td>-0.004182</td>\n",
              "      <td>0.000617</td>\n",
              "      <td>0.015017</td>\n",
              "      <td>0.011914</td>\n",
              "      <td>-0.007055</td>\n",
              "      <td>0.005152</td>\n",
              "      <td>0.050618</td>\n",
              "      <td>-0.030315</td>\n",
              "    </tr>\n",
              "    <tr>\n",
              "      <th>past_physical</th>\n",
              "      <td>0.005296</td>\n",
              "      <td>-0.016853</td>\n",
              "      <td>0.101044</td>\n",
              "      <td>-0.202328</td>\n",
              "      <td>-0.118261</td>\n",
              "      <td>0.018882</td>\n",
              "      <td>0.039028</td>\n",
              "      <td>-0.026474</td>\n",
              "      <td>0.020558</td>\n",
              "      <td>0.362906</td>\n",
              "      <td>1.000000</td>\n",
              "      <td>0.081028</td>\n",
              "      <td>0.064516</td>\n",
              "      <td>0.001497</td>\n",
              "      <td>-0.021892</td>\n",
              "      <td>-0.047553</td>\n",
              "      <td>0.006477</td>\n",
              "      <td>-0.008566</td>\n",
              "      <td>0.033009</td>\n",
              "      <td>-0.004366</td>\n",
              "      <td>0.009314</td>\n",
              "      <td>0.013093</td>\n",
              "      <td>0.009216</td>\n",
              "      <td>0.031222</td>\n",
              "      <td>0.028089</td>\n",
              "      <td>-0.012222</td>\n",
              "      <td>0.019414</td>\n",
              "      <td>0.053124</td>\n",
              "      <td>-0.035952</td>\n",
              "    </tr>\n",
              "    <tr>\n",
              "      <th>current_mental</th>\n",
              "      <td>0.009515</td>\n",
              "      <td>0.002211</td>\n",
              "      <td>-0.003865</td>\n",
              "      <td>0.042873</td>\n",
              "      <td>-0.061452</td>\n",
              "      <td>0.027788</td>\n",
              "      <td>0.012204</td>\n",
              "      <td>0.091267</td>\n",
              "      <td>0.028627</td>\n",
              "      <td>0.086568</td>\n",
              "      <td>0.081028</td>\n",
              "      <td>1.000000</td>\n",
              "      <td>0.464240</td>\n",
              "      <td>0.062878</td>\n",
              "      <td>0.064559</td>\n",
              "      <td>0.066008</td>\n",
              "      <td>0.006082</td>\n",
              "      <td>0.016859</td>\n",
              "      <td>0.028115</td>\n",
              "      <td>0.015659</td>\n",
              "      <td>0.084113</td>\n",
              "      <td>-0.041347</td>\n",
              "      <td>-0.047411</td>\n",
              "      <td>-0.072257</td>\n",
              "      <td>-0.063773</td>\n",
              "      <td>-0.059328</td>\n",
              "      <td>-0.035438</td>\n",
              "      <td>-0.007693</td>\n",
              "      <td>-0.244347</td>\n",
              "    </tr>\n",
              "    <tr>\n",
              "      <th>past_mental</th>\n",
              "      <td>-0.000279</td>\n",
              "      <td>0.015732</td>\n",
              "      <td>-0.046422</td>\n",
              "      <td>0.091480</td>\n",
              "      <td>-0.028862</td>\n",
              "      <td>0.032853</td>\n",
              "      <td>0.042338</td>\n",
              "      <td>0.091223</td>\n",
              "      <td>0.037218</td>\n",
              "      <td>0.046255</td>\n",
              "      <td>0.064516</td>\n",
              "      <td>0.464240</td>\n",
              "      <td>1.000000</td>\n",
              "      <td>0.031935</td>\n",
              "      <td>0.043983</td>\n",
              "      <td>0.065444</td>\n",
              "      <td>-0.000588</td>\n",
              "      <td>0.032238</td>\n",
              "      <td>0.025529</td>\n",
              "      <td>-0.030800</td>\n",
              "      <td>0.050045</td>\n",
              "      <td>-0.048318</td>\n",
              "      <td>-0.034374</td>\n",
              "      <td>-0.079429</td>\n",
              "      <td>-0.058340</td>\n",
              "      <td>-0.053522</td>\n",
              "      <td>-0.077584</td>\n",
              "      <td>-0.036294</td>\n",
              "      <td>-0.198646</td>\n",
              "    </tr>\n",
              "    <tr>\n",
              "      <th>exercise</th>\n",
              "      <td>0.009486</td>\n",
              "      <td>-0.038050</td>\n",
              "      <td>0.030051</td>\n",
              "      <td>0.025844</td>\n",
              "      <td>-0.006105</td>\n",
              "      <td>0.003770</td>\n",
              "      <td>-0.007348</td>\n",
              "      <td>0.062902</td>\n",
              "      <td>0.028200</td>\n",
              "      <td>0.029907</td>\n",
              "      <td>0.001497</td>\n",
              "      <td>0.062878</td>\n",
              "      <td>0.031935</td>\n",
              "      <td>1.000000</td>\n",
              "      <td>0.295914</td>\n",
              "      <td>0.147918</td>\n",
              "      <td>0.250537</td>\n",
              "      <td>0.155875</td>\n",
              "      <td>0.162720</td>\n",
              "      <td>0.159131</td>\n",
              "      <td>0.243228</td>\n",
              "      <td>-0.004770</td>\n",
              "      <td>-0.010539</td>\n",
              "      <td>-0.005921</td>\n",
              "      <td>0.059609</td>\n",
              "      <td>0.018944</td>\n",
              "      <td>0.007164</td>\n",
              "      <td>0.034922</td>\n",
              "      <td>-0.082721</td>\n",
              "    </tr>\n",
              "    <tr>\n",
              "      <th>healthy_diet</th>\n",
              "      <td>0.002712</td>\n",
              "      <td>-0.046908</td>\n",
              "      <td>0.118976</td>\n",
              "      <td>0.060329</td>\n",
              "      <td>0.053947</td>\n",
              "      <td>0.015958</td>\n",
              "      <td>0.003754</td>\n",
              "      <td>0.078041</td>\n",
              "      <td>0.033399</td>\n",
              "      <td>-0.005335</td>\n",
              "      <td>-0.021892</td>\n",
              "      <td>0.064559</td>\n",
              "      <td>0.043983</td>\n",
              "      <td>0.295914</td>\n",
              "      <td>1.000000</td>\n",
              "      <td>0.209831</td>\n",
              "      <td>0.236197</td>\n",
              "      <td>0.154824</td>\n",
              "      <td>0.167450</td>\n",
              "      <td>0.187742</td>\n",
              "      <td>0.237989</td>\n",
              "      <td>-0.011241</td>\n",
              "      <td>-0.038039</td>\n",
              "      <td>-0.008549</td>\n",
              "      <td>0.060847</td>\n",
              "      <td>0.034091</td>\n",
              "      <td>0.036002</td>\n",
              "      <td>0.038493</td>\n",
              "      <td>-0.091959</td>\n",
              "    </tr>\n",
              "    <tr>\n",
              "      <th>healthy_sleep</th>\n",
              "      <td>0.000462</td>\n",
              "      <td>-0.013150</td>\n",
              "      <td>0.001553</td>\n",
              "      <td>0.161474</td>\n",
              "      <td>0.023052</td>\n",
              "      <td>0.021575</td>\n",
              "      <td>0.006715</td>\n",
              "      <td>0.129068</td>\n",
              "      <td>0.008433</td>\n",
              "      <td>-0.014896</td>\n",
              "      <td>-0.047553</td>\n",
              "      <td>0.066008</td>\n",
              "      <td>0.065444</td>\n",
              "      <td>0.147918</td>\n",
              "      <td>0.209831</td>\n",
              "      <td>1.000000</td>\n",
              "      <td>0.128737</td>\n",
              "      <td>0.112456</td>\n",
              "      <td>0.063585</td>\n",
              "      <td>0.193089</td>\n",
              "      <td>0.211442</td>\n",
              "      <td>-0.028394</td>\n",
              "      <td>-0.070236</td>\n",
              "      <td>-0.066418</td>\n",
              "      <td>-0.001242</td>\n",
              "      <td>-0.062592</td>\n",
              "      <td>-0.029949</td>\n",
              "      <td>-0.023060</td>\n",
              "      <td>-0.137861</td>\n",
              "    </tr>\n",
              "    <tr>\n",
              "      <th>activity</th>\n",
              "      <td>0.004313</td>\n",
              "      <td>-0.017502</td>\n",
              "      <td>0.029432</td>\n",
              "      <td>-0.012368</td>\n",
              "      <td>0.032339</td>\n",
              "      <td>0.005774</td>\n",
              "      <td>0.003388</td>\n",
              "      <td>-0.028669</td>\n",
              "      <td>0.033211</td>\n",
              "      <td>0.015501</td>\n",
              "      <td>0.006477</td>\n",
              "      <td>0.006082</td>\n",
              "      <td>-0.000588</td>\n",
              "      <td>0.250537</td>\n",
              "      <td>0.236197</td>\n",
              "      <td>0.128737</td>\n",
              "      <td>1.000000</td>\n",
              "      <td>0.168180</td>\n",
              "      <td>0.182771</td>\n",
              "      <td>0.154529</td>\n",
              "      <td>0.229263</td>\n",
              "      <td>0.004616</td>\n",
              "      <td>-0.022117</td>\n",
              "      <td>-0.042019</td>\n",
              "      <td>0.027997</td>\n",
              "      <td>0.020140</td>\n",
              "      <td>0.008740</td>\n",
              "      <td>0.015397</td>\n",
              "      <td>-0.102782</td>\n",
              "    </tr>\n",
              "    <tr>\n",
              "      <th>interaction_offline</th>\n",
              "      <td>0.007798</td>\n",
              "      <td>0.022835</td>\n",
              "      <td>0.000238</td>\n",
              "      <td>-0.002627</td>\n",
              "      <td>-0.012196</td>\n",
              "      <td>-0.008474</td>\n",
              "      <td>-0.019161</td>\n",
              "      <td>0.101058</td>\n",
              "      <td>0.067938</td>\n",
              "      <td>0.013670</td>\n",
              "      <td>-0.008566</td>\n",
              "      <td>0.016859</td>\n",
              "      <td>0.032238</td>\n",
              "      <td>0.155875</td>\n",
              "      <td>0.154824</td>\n",
              "      <td>0.112456</td>\n",
              "      <td>0.168180</td>\n",
              "      <td>1.000000</td>\n",
              "      <td>0.153450</td>\n",
              "      <td>0.115838</td>\n",
              "      <td>0.192337</td>\n",
              "      <td>0.013368</td>\n",
              "      <td>0.019298</td>\n",
              "      <td>-0.023854</td>\n",
              "      <td>0.014569</td>\n",
              "      <td>0.026910</td>\n",
              "      <td>0.029795</td>\n",
              "      <td>0.031801</td>\n",
              "      <td>-0.041273</td>\n",
              "    </tr>\n",
              "    <tr>\n",
              "      <th>interaction_online</th>\n",
              "      <td>-0.001610</td>\n",
              "      <td>-0.036735</td>\n",
              "      <td>0.119865</td>\n",
              "      <td>-0.140673</td>\n",
              "      <td>-0.010629</td>\n",
              "      <td>-0.017042</td>\n",
              "      <td>-0.027109</td>\n",
              "      <td>-0.009665</td>\n",
              "      <td>0.025042</td>\n",
              "      <td>0.012397</td>\n",
              "      <td>0.033009</td>\n",
              "      <td>0.028115</td>\n",
              "      <td>0.025529</td>\n",
              "      <td>0.162720</td>\n",
              "      <td>0.167450</td>\n",
              "      <td>0.063585</td>\n",
              "      <td>0.182771</td>\n",
              "      <td>0.153450</td>\n",
              "      <td>1.000000</td>\n",
              "      <td>0.107397</td>\n",
              "      <td>0.208233</td>\n",
              "      <td>0.019468</td>\n",
              "      <td>0.014530</td>\n",
              "      <td>0.030684</td>\n",
              "      <td>0.063289</td>\n",
              "      <td>0.070523</td>\n",
              "      <td>0.035180</td>\n",
              "      <td>0.086672</td>\n",
              "      <td>-0.039846</td>\n",
              "    </tr>\n",
              "    <tr>\n",
              "      <th>preventive_behaviors</th>\n",
              "      <td>-0.009878</td>\n",
              "      <td>-0.016800</td>\n",
              "      <td>0.170170</td>\n",
              "      <td>-0.035952</td>\n",
              "      <td>0.014795</td>\n",
              "      <td>-0.006369</td>\n",
              "      <td>-0.007662</td>\n",
              "      <td>0.022287</td>\n",
              "      <td>0.006461</td>\n",
              "      <td>0.011493</td>\n",
              "      <td>-0.004366</td>\n",
              "      <td>0.015659</td>\n",
              "      <td>-0.030800</td>\n",
              "      <td>0.159131</td>\n",
              "      <td>0.187742</td>\n",
              "      <td>0.193089</td>\n",
              "      <td>0.154529</td>\n",
              "      <td>0.115838</td>\n",
              "      <td>0.107397</td>\n",
              "      <td>1.000000</td>\n",
              "      <td>0.199368</td>\n",
              "      <td>0.072864</td>\n",
              "      <td>-0.096147</td>\n",
              "      <td>0.012877</td>\n",
              "      <td>0.128034</td>\n",
              "      <td>-0.041796</td>\n",
              "      <td>0.095731</td>\n",
              "      <td>0.092917</td>\n",
              "      <td>-0.044746</td>\n",
              "    </tr>\n",
              "    <tr>\n",
              "      <th>optimism</th>\n",
              "      <td>0.006236</td>\n",
              "      <td>-0.014199</td>\n",
              "      <td>0.055181</td>\n",
              "      <td>0.015482</td>\n",
              "      <td>-0.010179</td>\n",
              "      <td>-0.020702</td>\n",
              "      <td>-0.026558</td>\n",
              "      <td>0.076301</td>\n",
              "      <td>0.035258</td>\n",
              "      <td>0.014191</td>\n",
              "      <td>0.009314</td>\n",
              "      <td>0.084113</td>\n",
              "      <td>0.050045</td>\n",
              "      <td>0.243228</td>\n",
              "      <td>0.237989</td>\n",
              "      <td>0.211442</td>\n",
              "      <td>0.229263</td>\n",
              "      <td>0.192337</td>\n",
              "      <td>0.208233</td>\n",
              "      <td>0.199368</td>\n",
              "      <td>1.000000</td>\n",
              "      <td>-0.017031</td>\n",
              "      <td>-0.047050</td>\n",
              "      <td>-0.073682</td>\n",
              "      <td>0.022010</td>\n",
              "      <td>-0.003721</td>\n",
              "      <td>0.008291</td>\n",
              "      <td>0.020110</td>\n",
              "      <td>-0.149644</td>\n",
              "    </tr>\n",
              "    <tr>\n",
              "      <th>deterioration_economy</th>\n",
              "      <td>0.013090</td>\n",
              "      <td>0.011199</td>\n",
              "      <td>0.040214</td>\n",
              "      <td>-0.079430</td>\n",
              "      <td>-0.046001</td>\n",
              "      <td>-0.009263</td>\n",
              "      <td>0.004394</td>\n",
              "      <td>-0.068685</td>\n",
              "      <td>-0.046406</td>\n",
              "      <td>-0.004182</td>\n",
              "      <td>0.013093</td>\n",
              "      <td>-0.041347</td>\n",
              "      <td>-0.048318</td>\n",
              "      <td>-0.004770</td>\n",
              "      <td>-0.011241</td>\n",
              "      <td>-0.028394</td>\n",
              "      <td>0.004616</td>\n",
              "      <td>0.013368</td>\n",
              "      <td>0.019468</td>\n",
              "      <td>0.072864</td>\n",
              "      <td>-0.017031</td>\n",
              "      <td>1.000000</td>\n",
              "      <td>0.156596</td>\n",
              "      <td>0.202874</td>\n",
              "      <td>0.172600</td>\n",
              "      <td>0.145462</td>\n",
              "      <td>0.204370</td>\n",
              "      <td>0.275482</td>\n",
              "      <td>0.155383</td>\n",
              "    </tr>\n",
              "    <tr>\n",
              "      <th>deterioration_interact</th>\n",
              "      <td>0.014574</td>\n",
              "      <td>0.001545</td>\n",
              "      <td>-0.040659</td>\n",
              "      <td>-0.035540</td>\n",
              "      <td>-0.024984</td>\n",
              "      <td>-0.006478</td>\n",
              "      <td>0.014519</td>\n",
              "      <td>-0.034548</td>\n",
              "      <td>0.026720</td>\n",
              "      <td>0.000617</td>\n",
              "      <td>0.009216</td>\n",
              "      <td>-0.047411</td>\n",
              "      <td>-0.034374</td>\n",
              "      <td>-0.010539</td>\n",
              "      <td>-0.038039</td>\n",
              "      <td>-0.070236</td>\n",
              "      <td>-0.022117</td>\n",
              "      <td>0.019298</td>\n",
              "      <td>0.014530</td>\n",
              "      <td>-0.096147</td>\n",
              "      <td>-0.047050</td>\n",
              "      <td>0.156596</td>\n",
              "      <td>1.000000</td>\n",
              "      <td>0.237694</td>\n",
              "      <td>0.089083</td>\n",
              "      <td>0.234326</td>\n",
              "      <td>0.140163</td>\n",
              "      <td>0.126138</td>\n",
              "      <td>0.214230</td>\n",
              "    </tr>\n",
              "    <tr>\n",
              "      <th>frustration</th>\n",
              "      <td>0.008977</td>\n",
              "      <td>0.012174</td>\n",
              "      <td>0.114212</td>\n",
              "      <td>-0.139565</td>\n",
              "      <td>-0.045068</td>\n",
              "      <td>-0.038828</td>\n",
              "      <td>-0.007866</td>\n",
              "      <td>-0.007774</td>\n",
              "      <td>0.012538</td>\n",
              "      <td>0.015017</td>\n",
              "      <td>0.031222</td>\n",
              "      <td>-0.072257</td>\n",
              "      <td>-0.079429</td>\n",
              "      <td>-0.005921</td>\n",
              "      <td>-0.008549</td>\n",
              "      <td>-0.066418</td>\n",
              "      <td>-0.042019</td>\n",
              "      <td>-0.023854</td>\n",
              "      <td>0.030684</td>\n",
              "      <td>0.012877</td>\n",
              "      <td>-0.073682</td>\n",
              "      <td>0.202874</td>\n",
              "      <td>0.237694</td>\n",
              "      <td>1.000000</td>\n",
              "      <td>0.268005</td>\n",
              "      <td>0.251933</td>\n",
              "      <td>0.238550</td>\n",
              "      <td>0.215520</td>\n",
              "      <td>0.252790</td>\n",
              "    </tr>\n",
              "    <tr>\n",
              "      <th>covid_anxiety</th>\n",
              "      <td>0.007507</td>\n",
              "      <td>0.001824</td>\n",
              "      <td>0.170918</td>\n",
              "      <td>-0.094388</td>\n",
              "      <td>-0.008164</td>\n",
              "      <td>-0.004619</td>\n",
              "      <td>-0.016597</td>\n",
              "      <td>-0.009461</td>\n",
              "      <td>-0.004281</td>\n",
              "      <td>0.011914</td>\n",
              "      <td>0.028089</td>\n",
              "      <td>-0.063773</td>\n",
              "      <td>-0.058340</td>\n",
              "      <td>0.059609</td>\n",
              "      <td>0.060847</td>\n",
              "      <td>-0.001242</td>\n",
              "      <td>0.027997</td>\n",
              "      <td>0.014569</td>\n",
              "      <td>0.063289</td>\n",
              "      <td>0.128034</td>\n",
              "      <td>0.022010</td>\n",
              "      <td>0.172600</td>\n",
              "      <td>0.089083</td>\n",
              "      <td>0.268005</td>\n",
              "      <td>1.000000</td>\n",
              "      <td>0.250343</td>\n",
              "      <td>0.264970</td>\n",
              "      <td>0.225148</td>\n",
              "      <td>0.143298</td>\n",
              "    </tr>\n",
              "    <tr>\n",
              "      <th>covid_sleepless</th>\n",
              "      <td>0.008582</td>\n",
              "      <td>0.006600</td>\n",
              "      <td>0.036202</td>\n",
              "      <td>-0.036527</td>\n",
              "      <td>-0.013739</td>\n",
              "      <td>-0.005743</td>\n",
              "      <td>-0.003992</td>\n",
              "      <td>-0.017872</td>\n",
              "      <td>0.005065</td>\n",
              "      <td>-0.007055</td>\n",
              "      <td>-0.012222</td>\n",
              "      <td>-0.059328</td>\n",
              "      <td>-0.053522</td>\n",
              "      <td>0.018944</td>\n",
              "      <td>0.034091</td>\n",
              "      <td>-0.062592</td>\n",
              "      <td>0.020140</td>\n",
              "      <td>0.026910</td>\n",
              "      <td>0.070523</td>\n",
              "      <td>-0.041796</td>\n",
              "      <td>-0.003721</td>\n",
              "      <td>0.145462</td>\n",
              "      <td>0.234326</td>\n",
              "      <td>0.251933</td>\n",
              "      <td>0.250343</td>\n",
              "      <td>1.000000</td>\n",
              "      <td>0.231952</td>\n",
              "      <td>0.162661</td>\n",
              "      <td>0.197131</td>\n",
              "    </tr>\n",
              "    <tr>\n",
              "      <th>difficulty_living</th>\n",
              "      <td>0.005464</td>\n",
              "      <td>0.004243</td>\n",
              "      <td>0.119830</td>\n",
              "      <td>-0.101611</td>\n",
              "      <td>-0.048617</td>\n",
              "      <td>-0.029517</td>\n",
              "      <td>-0.008250</td>\n",
              "      <td>-0.004288</td>\n",
              "      <td>-0.021744</td>\n",
              "      <td>0.005152</td>\n",
              "      <td>0.019414</td>\n",
              "      <td>-0.035438</td>\n",
              "      <td>-0.077584</td>\n",
              "      <td>0.007164</td>\n",
              "      <td>0.036002</td>\n",
              "      <td>-0.029949</td>\n",
              "      <td>0.008740</td>\n",
              "      <td>0.029795</td>\n",
              "      <td>0.035180</td>\n",
              "      <td>0.095731</td>\n",
              "      <td>0.008291</td>\n",
              "      <td>0.204370</td>\n",
              "      <td>0.140163</td>\n",
              "      <td>0.238550</td>\n",
              "      <td>0.264970</td>\n",
              "      <td>0.231952</td>\n",
              "      <td>1.000000</td>\n",
              "      <td>0.264565</td>\n",
              "      <td>0.152165</td>\n",
              "    </tr>\n",
              "    <tr>\n",
              "      <th>difficulty_work</th>\n",
              "      <td>-0.020455</td>\n",
              "      <td>-0.023971</td>\n",
              "      <td>0.097078</td>\n",
              "      <td>-0.200135</td>\n",
              "      <td>-0.124161</td>\n",
              "      <td>0.010585</td>\n",
              "      <td>-0.005597</td>\n",
              "      <td>-0.061534</td>\n",
              "      <td>0.021785</td>\n",
              "      <td>0.050618</td>\n",
              "      <td>0.053124</td>\n",
              "      <td>-0.007693</td>\n",
              "      <td>-0.036294</td>\n",
              "      <td>0.034922</td>\n",
              "      <td>0.038493</td>\n",
              "      <td>-0.023060</td>\n",
              "      <td>0.015397</td>\n",
              "      <td>0.031801</td>\n",
              "      <td>0.086672</td>\n",
              "      <td>0.092917</td>\n",
              "      <td>0.020110</td>\n",
              "      <td>0.275482</td>\n",
              "      <td>0.126138</td>\n",
              "      <td>0.215520</td>\n",
              "      <td>0.225148</td>\n",
              "      <td>0.162661</td>\n",
              "      <td>0.264565</td>\n",
              "      <td>1.000000</td>\n",
              "      <td>0.144675</td>\n",
              "    </tr>\n",
              "    <tr>\n",
              "      <th>depression</th>\n",
              "      <td>0.026584</td>\n",
              "      <td>0.014896</td>\n",
              "      <td>0.035283</td>\n",
              "      <td>-0.141559</td>\n",
              "      <td>-0.007161</td>\n",
              "      <td>-0.026431</td>\n",
              "      <td>-0.009244</td>\n",
              "      <td>-0.131033</td>\n",
              "      <td>-0.014983</td>\n",
              "      <td>-0.030315</td>\n",
              "      <td>-0.035952</td>\n",
              "      <td>-0.244347</td>\n",
              "      <td>-0.198646</td>\n",
              "      <td>-0.082721</td>\n",
              "      <td>-0.091959</td>\n",
              "      <td>-0.137861</td>\n",
              "      <td>-0.102782</td>\n",
              "      <td>-0.041273</td>\n",
              "      <td>-0.039846</td>\n",
              "      <td>-0.044746</td>\n",
              "      <td>-0.149644</td>\n",
              "      <td>0.155383</td>\n",
              "      <td>0.214230</td>\n",
              "      <td>0.252790</td>\n",
              "      <td>0.143298</td>\n",
              "      <td>0.197131</td>\n",
              "      <td>0.152165</td>\n",
              "      <td>0.144675</td>\n",
              "      <td>1.000000</td>\n",
              "    </tr>\n",
              "  </tbody>\n",
              "</table>\n",
              "</div>"
            ],
            "text/plain": [
              "                              id      city  ...  difficulty_work  depression\n",
              "id                      1.000000 -0.016618  ...        -0.020455    0.026584\n",
              "city                   -0.016618  1.000000  ...        -0.023971    0.014896\n",
              "gender                  0.004887  0.033771  ...         0.097078    0.035283\n",
              "age                    -0.016239 -0.019019  ...        -0.200135   -0.141559\n",
              "job                     0.007736  0.020680  ...        -0.124161   -0.007161\n",
              "health_worker_self     -0.019556 -0.027716  ...         0.010585   -0.026431\n",
              "health_worker_family   -0.012002 -0.040665  ...        -0.005597   -0.009244\n",
              "family_status          -0.021709  0.028606  ...        -0.061534   -0.131033\n",
              "income_group            0.012125 -0.081207  ...         0.021785   -0.014983\n",
              "current_physical        0.027200 -0.003401  ...         0.050618   -0.030315\n",
              "past_physical           0.005296 -0.016853  ...         0.053124   -0.035952\n",
              "current_mental          0.009515  0.002211  ...        -0.007693   -0.244347\n",
              "past_mental            -0.000279  0.015732  ...        -0.036294   -0.198646\n",
              "exercise                0.009486 -0.038050  ...         0.034922   -0.082721\n",
              "healthy_diet            0.002712 -0.046908  ...         0.038493   -0.091959\n",
              "healthy_sleep           0.000462 -0.013150  ...        -0.023060   -0.137861\n",
              "activity                0.004313 -0.017502  ...         0.015397   -0.102782\n",
              "interaction_offline     0.007798  0.022835  ...         0.031801   -0.041273\n",
              "interaction_online     -0.001610 -0.036735  ...         0.086672   -0.039846\n",
              "preventive_behaviors   -0.009878 -0.016800  ...         0.092917   -0.044746\n",
              "optimism                0.006236 -0.014199  ...         0.020110   -0.149644\n",
              "deterioration_economy   0.013090  0.011199  ...         0.275482    0.155383\n",
              "deterioration_interact  0.014574  0.001545  ...         0.126138    0.214230\n",
              "frustration             0.008977  0.012174  ...         0.215520    0.252790\n",
              "covid_anxiety           0.007507  0.001824  ...         0.225148    0.143298\n",
              "covid_sleepless         0.008582  0.006600  ...         0.162661    0.197131\n",
              "difficulty_living       0.005464  0.004243  ...         0.264565    0.152165\n",
              "difficulty_work        -0.020455 -0.023971  ...         1.000000    0.144675\n",
              "depression              0.026584  0.014896  ...         0.144675    1.000000\n",
              "\n",
              "[29 rows x 29 columns]"
            ]
          },
          "metadata": {
            "tags": []
          },
          "execution_count": 32
        }
      ]
    },
    {
      "cell_type": "markdown",
      "metadata": {
        "id": "OCymWJAflfM4"
      },
      "source": [
        "# #Correlation matrix"
      ]
    },
    {
      "cell_type": "code",
      "metadata": {
        "colab": {
          "base_uri": "https://localhost:8080/",
          "height": 620
        },
        "id": "a7D98AC8fUDX",
        "outputId": "db1060b0-fd40-45c0-b05e-f8ab823aa001"
      },
      "source": [
        "plt.figure(figsize = (26, 15)) \r\n",
        "sns.heatmap(df.corr(), cmap='Purples',annot=True, linecolor='Green', linewidths=1.0)\r\n",
        "plt.show()"
      ],
      "execution_count": 325,
      "outputs": [
        {
          "output_type": "display_data",
          "data": {
            "image/png": "[encoded data removed]",
            "text/plain": [
              "<Figure size 1872x1080 with 2 Axes>"
            ]
          },
          "metadata": {
            "tags": [],
            "needs_background": "light"
          }
        }
      ]
    },
    {
      "cell_type": "code",
      "metadata": {
        "colab": {
          "base_uri": "https://localhost:8080/"
        },
        "id": "p0Umxwuym2rt",
        "outputId": "cf326bab-2b03-45c5-d2fd-0cf8f8710756"
      },
      "source": [
        "healthy = df[(df['depression'] ==0) ].count()[1]\r\n",
        "depressed = df[(df['depression'] ==1) ].count()[1]\r\n",
        "print (\"num of pepole without depression: \"+ str(healthy))\r\n",
        "print (\"num of pepole with chance for depression: \"+ str(depressed))"
      ],
      "execution_count": null,
      "outputs": [
        {
          "output_type": "stream",
          "text": [
            "num of pepole without depression: 5985\n",
            "num of pepole with chance for depression: 1297\n"
          ],
          "name": "stdout"
        }
      ]
    },
    {
      "cell_type": "code",
      "metadata": {
        "id": "C7AK8jchiDbW"
      },
      "source": [
        "##df[]"
      ],
      "execution_count": null,
      "outputs": []
    },
    {
      "cell_type": "code",
      "metadata": {
        "id": "-_BjsMMrNBWL"
      },
      "source": [
        "## Relationship between 2 categorical variables: chi-squared test"
      ],
      "execution_count": null,
      "outputs": []
    },
    {
      "cell_type": "code",
      "metadata": {
        "id": "Mwj7Bt8vqnJ0"
      },
      "source": [
        "from scipy import stats\r\n",
        "def chi_sq_test(DF, var1, var2):\r\n",
        "    dataset_table = pd.crosstab(DF[var1], DF[var2])\r\n",
        "    print('contingency table between {} and {} is:\\n'.format(var1, var2))\r\n",
        "    print(dataset_table)\r\n",
        "    val = stats.chi2_contingency(dataset_table)\r\n",
        "    Observed_Values = dataset_table.values \r\n",
        "    Expected_Values = val[-1]\r\n",
        "    no_of_rows = dataset_table.shape[0]\r\n",
        "    no_of_columns = dataset_table.shape[1]\r\n",
        "    ddof = (no_of_rows-1)*(no_of_columns-1)\r\n",
        "    print(\"\\nDegree of Freedom:-\",ddof)\r\n",
        "    alpha = 0.05\r\n",
        "    chi_square = sum([(o-e)**2./e for o,e in zip(Observed_Values, Expected_Values)])\r\n",
        "    chi_square_statistic = chi_square[0]+chi_square[1]\r\n",
        "    critical_value = stats.chi2.ppf(q=1-alpha,df=ddof)\r\n",
        "    p_value = 1-stats.chi2.cdf(x=chi_square_statistic,df=ddof)\r\n",
        "    \r\n",
        "    if chi_square_statistic>=critical_value and p_value<=alpha:\r\n",
        "        print(\"chi_square_statistic is {} and p-value is {}. So, there is a relationship between 2 categorical variables\".format(chi_square_statistic, p_value))\r\n",
        "    elif chi_square_statistic>=critical_value and p_value>alpha:\r\n",
        "        print(\"chi_square_statistic is {} and p-value is {}. So, there is a weak relationship between 2 categorical variables, but not evident enough\".format(chi_square_statistic, p_value))\r\n",
        "    else:\r\n",
        "        print(\"chi_square_statistic is {} and p-value is {}. So, these 2 variables are not related at all.\".format(chi_square_statistic, p_value))"
      ],
      "execution_count": null,
      "outputs": []
    },
    {
      "cell_type": "code",
      "metadata": {
        "id": "fv13QW8oLTYh",
        "colab": {
          "base_uri": "https://localhost:8080/"
        },
        "outputId": "de6232bb-21b7-46f6-dba2-6f6adfd558ee"
      },
      "source": [
        "chi_sq_test(df, 'gender', 'depression')"
      ],
      "execution_count": null,
      "outputs": [
        {
          "output_type": "stream",
          "text": [
            "contingency table between gender and depression is:\n",
            "\n",
            "depression     0    1\n",
            "gender               \n",
            "1           3123  617\n",
            "2           2862  680\n",
            "\n",
            "Degree of Freedom:- 1\n",
            "chi_square_statistic is 9.065109832588067 and p-value is 0.0026053288530820673. So, there is a relationship between 2 categorical variables\n"
          ],
          "name": "stdout"
        }
      ]
    },
    {
      "cell_type": "code",
      "metadata": {
        "id": "rodrpwa8nVne",
        "colab": {
          "base_uri": "https://localhost:8080/"
        },
        "outputId": "1fb8c79a-0acb-40e9-d51d-c6954a9f8588"
      },
      "source": [
        "chi_sq_test(df, 'healthy_diet', 'depression')"
      ],
      "execution_count": null,
      "outputs": [
        {
          "output_type": "stream",
          "text": [
            "contingency table between healthy_diet and depression is:\n",
            "\n",
            "depression       0    1\n",
            "healthy_diet           \n",
            "1              512  153\n",
            "2              482  127\n",
            "3              590  207\n",
            "4             1282  305\n",
            "5             1740  292\n",
            "6              878  116\n",
            "7              501   97\n",
            "\n",
            "Degree of Freedom:- 6\n",
            "chi_square_statistic is 97.60709380263867 and p-value is 0.0. So, there is a relationship between 2 categorical variables\n"
          ],
          "name": "stdout"
        }
      ]
    },
    {
      "cell_type": "code",
      "metadata": {
        "id": "zsMy4WJxmbRY"
      },
      "source": [
        "##from google.colab import drive\n",
        "##drive.mount('/content/drive')"
      ],
      "execution_count": null,
      "outputs": []
    },
    {
      "cell_type": "code",
      "metadata": {
        "colab": {
          "base_uri": "https://localhost:8080/"
        },
        "id": "pYcXX34qg04r",
        "outputId": "2e1c3faf-0338-4751-cd51-f00ae1bc6ef8"
      },
      "source": [
        "chi_sq_test(df, 'past_physical', 'depression')"
      ],
      "execution_count": 257,
      "outputs": [
        {
          "output_type": "stream",
          "text": [
            "contingency table between past_physical and depression is:\n",
            "\n",
            "depression        0     1\n",
            "past_physical            \n",
            "1               472   136\n",
            "2              5513  1161\n",
            "\n",
            "Degree of Freedom:- 1\n",
            "chi_square_statistic is 9.412300385719808 and p-value is 0.002155346541189429. So, there is a relationship between 2 categorical variables\n"
          ],
          "name": "stdout"
        }
      ]
    },
    {
      "cell_type": "code",
      "metadata": {
        "id": "2j8eu0OiM2se",
        "colab": {
          "base_uri": "https://localhost:8080/"
        },
        "outputId": "3b7acf2a-19ed-4409-832a-ee4f39833d03"
      },
      "source": [
        "chi_sq_test(df, 'city', 'depression')"
      ],
      "execution_count": null,
      "outputs": [
        {
          "output_type": "stream",
          "text": [
            "contingency table between city and depression is:\n",
            "\n",
            "depression     0    1\n",
            "city                 \n",
            "1           1512  294\n",
            "2            976  212\n",
            "3            770  188\n",
            "4            690  136\n",
            "5            919  221\n",
            "6            566  133\n",
            "7            552  113\n",
            "\n",
            "Degree of Freedom:- 6\n",
            "chi_square_statistic is 9.012625547514117 and p-value is 0.17286926313936823. So, these 2 variables are not related at all.\n"
          ],
          "name": "stdout"
        }
      ]
    },
    {
      "cell_type": "code",
      "metadata": {
        "colab": {
          "base_uri": "https://localhost:8080/"
        },
        "id": "-C4CGdI-hIWC",
        "outputId": "c93f29d5-c828-4e99-aa1d-3c68ad5c7160"
      },
      "source": [
        "chi_sq_test(df, 'interaction_online', 'depression')"
      ],
      "execution_count": 258,
      "outputs": [
        {
          "output_type": "stream",
          "text": [
            "contingency table between interaction_online and depression is:\n",
            "\n",
            "depression             0    1\n",
            "interaction_online           \n",
            "1                   1800  407\n",
            "2                    590  129\n",
            "3                    543  128\n",
            "4                    920  257\n",
            "5                   1037  216\n",
            "6                    566   93\n",
            "7                    529   67\n",
            "\n",
            "Degree of Freedom:- 6\n",
            "chi_square_statistic is 38.37127812542005 and p-value is 9.503911565511558e-07. So, there is a relationship between 2 categorical variables\n"
          ],
          "name": "stdout"
        }
      ]
    },
    {
      "cell_type": "code",
      "metadata": {
        "id": "9pu4_TX5rSJV"
      },
      "source": [
        "chi_sq_test(df, 'interaction_offline', 'depression')"
      ],
      "execution_count": null,
      "outputs": []
    },
    {
      "cell_type": "code",
      "metadata": {
        "id": "sR4ozSr8LaR4",
        "colab": {
          "base_uri": "https://localhost:8080/"
        },
        "outputId": "b71bb764-ad5d-481d-cbfd-4bfcb7f1c82a"
      },
      "source": [
        "chi_sq_test(df, 'interaction_offline', 'depression')"
      ],
      "execution_count": null,
      "outputs": [
        {
          "output_type": "stream",
          "text": [
            "contingency table between interaction_offline and depression is:\n",
            "\n",
            "depression              0    1\n",
            "interaction_offline           \n",
            "1                    1191  299\n",
            "2                     765  149\n",
            "3                     694  167\n",
            "4                    1234  295\n",
            "5                    1008  207\n",
            "6                     592  105\n",
            "7                     501   75\n",
            "\n",
            "Degree of Freedom:- 6\n",
            "chi_square_statistic is 23.493720576433027 and p-value is 0.0006469109936296791. So, there is a relationship between 2 categorical variables\n"
          ],
          "name": "stdout"
        }
      ]
    },
    {
      "cell_type": "code",
      "metadata": {
        "colab": {
          "base_uri": "https://localhost:8080/",
          "height": 1000
        },
        "id": "8gyAQrLuvwBq",
        "outputId": "79993fdd-96cd-4b1c-b6bb-16a7661fb9c7"
      },
      "source": [
        ""
      ],
      "execution_count": 310,
      "outputs": [
        {
          "output_type": "stream",
          "text": [
            "id  mean= 1074870172.040099  median= 1082064054.0 \n",
            " mode= ModeResult(mode=array([365236]), count=array([1]))\n",
            "city  mean= 3.420626201592969  median= 3.0 \n",
            " mode= ModeResult(mode=array([1]), count=array([1806]))\n",
            "gender  mean= 1.486404833836858  median= 1.0 \n",
            " mode= ModeResult(mode=array([1]), count=array([3740]))\n",
            "age  mean= 47.20873386432299  median= 47.0 \n",
            " mode= ModeResult(mode=array([46]), count=array([213]))\n",
            "job  mean= 1.648860203240868  median= 1.0 \n",
            " mode= ModeResult(mode=array([1]), count=array([4962]))\n",
            "health_worker_self  mean= 1.9436967865970887  median= 2.0 \n",
            " mode= ModeResult(mode=array([2]), count=array([6872]))\n",
            "health_worker_family  mean= 1.9130733315023345  median= 2.0 \n",
            " mode= ModeResult(mode=array([2]), count=array([6649]))\n",
            "family_status  mean= 1.6286734413622632  median= 2.0 \n",
            " mode= ModeResult(mode=array([2]), count=array([4578]))\n",
            "income_group  mean= 4.308981049162318  median= 3.0 \n",
            " mode= ModeResult(mode=array([3.]), count=array([1684]))\n",
            "current_physical  mean= 1.9522109310628948  median= 2.0 \n",
            " mode= ModeResult(mode=array([2]), count=array([6934]))\n",
            "past_physical  mean= 1.9165064542708048  median= 2.0 \n",
            " mode= ModeResult(mode=array([2]), count=array([6674]))\n",
            "current_mental  mean= 1.941362263114529  median= 2.0 \n",
            " mode= ModeResult(mode=array([2]), count=array([6855]))\n",
            "past_mental  mean= 1.8802526778357593  median= 2.0 \n",
            " mode= ModeResult(mode=array([2]), count=array([6410]))\n",
            "exercise  mean= 4.140758033507278  median= 5.0 \n",
            " mode= ModeResult(mode=array([5]), count=array([1924]))\n",
            "healthy_diet  mean= 4.24773413897281  median= 4.0 \n",
            " mode= ModeResult(mode=array([5]), count=array([2032]))\n",
            "healthy_sleep  mean= 4.525542433397418  median= 5.0 \n",
            " mode= ModeResult(mode=array([5]), count=array([1432]))\n",
            "activity  mean= 4.014419115627575  median= 4.0 \n",
            " mode= ModeResult(mode=array([4]), count=array([1739]))\n",
            "interaction_offline  mean= 3.612469101895084  median= 4.0 \n",
            " mode= ModeResult(mode=array([4]), count=array([1529]))\n",
            "interaction_online  mean= 3.39975281516067  median= 4.0 \n",
            " mode= ModeResult(mode=array([1]), count=array([2207]))\n",
            "preventive_behaviors  mean= 5.199807745124966  median= 6.0 \n",
            " mode= ModeResult(mode=array([7]), count=array([2517]))\n",
            "optimism  mean= 4.032957978577314  median= 4.0 \n",
            " mode= ModeResult(mode=array([4]), count=array([2235]))\n",
            "deterioration_economy  mean= 3.8243614391650644  median= 4.0 \n",
            " mode= ModeResult(mode=array([4]), count=array([1852]))\n",
            "deterioration_interact  mean= 2.7117550123592418  median= 2.0 \n",
            " mode= ModeResult(mode=array([1]), count=array([2848]))\n",
            "frustration  mean= 3.424196649272178  median= 4.0 \n",
            " mode= ModeResult(mode=array([1]), count=array([1664]))\n",
            "covid_anxiety  mean= 3.993408404284537  median= 4.0 \n",
            " mode= ModeResult(mode=array([5]), count=array([2045]))\n",
            "covid_sleepless  mean= 2.746772864597638  median= 2.0 \n",
            " mode= ModeResult(mode=array([1]), count=array([2611]))\n",
            "difficulty_living  mean= 3.6525679758308156  median= 4.0 \n",
            " mode= ModeResult(mode=array([5]), count=array([1450]))\n",
            "difficulty_work  mean= 3.822438890414721  median= 4.0 \n",
            " mode= ModeResult(mode=array([1]), count=array([1536]))\n",
            "depression  mean= 0.178110409228234  median= 0.0 \n",
            " mode= ModeResult(mode=array([0]), count=array([5985]))\n"
          ],
          "name": "stdout"
        },
        {
          "output_type": "execute_result",
          "data": {
            "text/plain": [
              "[<matplotlib.lines.Line2D at 0x7f1ee2434630>]"
            ]
          },
          "metadata": {
            "tags": []
          },
          "execution_count": 310
        },
        {
          "output_type": "display_data",
          "data": {
            "image/png": "[encoded data removed]",
            "text/plain": [
              "<Figure size 432x288 with 1 Axes>"
            ]
          },
          "metadata": {
            "tags": [],
            "needs_background": "light"
          }
        }
      ]
    },
    {
      "cell_type": "markdown",
      "metadata": {
        "id": "cvSxOOSnpTA3"
      },
      "source": [
        "#**Linear** **Regression**"
      ]
    },
    {
      "cell_type": "code",
      "metadata": {
        "id": "OZUY-VMSQU0M"
      },
      "source": [
        "\r\n",
        "\r\n",
        "#from sklearn.linear_model import LinearRegression\r\n",
        "#from sklearn.metrics import mean_squared_error, r2_score\r\n",
        "#model_base = LinearRegression()\r\n",
        "#data_X = df[['difficulty_work','covid_sleepless','frustration','optimism','interaction_online','healthy_sleep','health_worker_self', 'current_physical', 'current_mental']]\r\n",
        "#data_Y = df['depression']\r\n",
        "#model_base.fit(data_X, data_Y)\r\n",
        "#Prediction = model_base.predict(data_X)\r\n",
        "#Actual = data_Y\r\n",
        "#Prediction = model_base.predict(data_X)\r\n",
        "#Actual = data_Y"
      ],
      "execution_count": null,
      "outputs": []
    },
    {
      "cell_type": "code",
      "metadata": {
        "id": "9TNT74UgWL89"
      },
      "source": [
        "#model_base.coef_"
      ],
      "execution_count": null,
      "outputs": []
    },
    {
      "cell_type": "code",
      "metadata": {
        "id": "53HmqZkkWQsV"
      },
      "source": [
        "#Prediction = model_base.predict(data_X)\r\n",
        "#Actual = data_Y"
      ],
      "execution_count": null,
      "outputs": []
    },
    {
      "cell_type": "code",
      "metadata": {
        "id": "-w247_TuWW1E"
      },
      "source": [
        "#Prediction"
      ],
      "execution_count": null,
      "outputs": []
    },
    {
      "cell_type": "code",
      "metadata": {
        "id": "BIx8MmU9WcuK"
      },
      "source": [
        "#comparison\r\n",
        "#plt.figure(figsize=(20, 10))\r\n",
        "\r\n",
        "\r\n",
        "#ax1 = sns.distplot(Actual, hist=False, color=\"r\", label=\"Actual Value\")\r\n",
        "#sns.distplot(Prediction, hist=False, color=\"b\", label=\"Fitted Values\" , ax=ax1)\r\n",
        "\r\n",
        "\r\n",
        "#plt.title('Actual vs Fitted Values for depression')\r\n",
        "#plt.xlabel('Depression (in decimal)')\r\n",
        "#plt.ylabel('Proportion of target')\r\n",
        "\r\n",
        "#plt.show()\r\n",
        "#plt.close()"
      ],
      "execution_count": null,
      "outputs": []
    },
    {
      "cell_type": "code",
      "metadata": {
        "id": "8jN65tnpXBGn"
      },
      "source": [
        "#mean_squared_error(Actual, Prediction)"
      ],
      "execution_count": null,
      "outputs": []
    },
    {
      "cell_type": "code",
      "metadata": {
        "id": "TWk6tqjRc8My"
      },
      "source": [
        "#test_data=pd.read_csv('covid_mental_health_test.csv')"
      ],
      "execution_count": null,
      "outputs": []
    },
    {
      "cell_type": "code",
      "metadata": {
        "id": "FuwRzf7JcWP2"
      },
      "source": [
        "#X_train=train_data.drop(columns=['target'])\r\n",
        "#Y_train=train_data['target']\r\n",
        "\r\n",
        "#X_test=test_data.drop(columns=['id','city'])\r\n"
      ],
      "execution_count": null,
      "outputs": []
    },
    {
      "cell_type": "markdown",
      "metadata": {
        "id": "2FxR2b4vpky7"
      },
      "source": [
        "#**SVM**"
      ]
    },
    {
      "cell_type": "code",
      "metadata": {
        "id": "8zSkn3HTnpiC"
      },
      "source": [
        "#from sklearn.linear_model import LinearRegression\n",
        "#from sklearn.svm import SVR\n",
        "#from sklearn.metrics import mean_squared_error, r2_score\n",
        "#def trainer(data_X, data_Y):\n",
        "#  model_base = LinearRegression(normalize=True)\n",
        "  ##model_base = SVR(kernel='linear')\n",
        " # print(data_X.columns)\n",
        "  #from sklearn.preprocessing import StandardScaler\n",
        "  #scaled_features = StandardScaler().fit_transform(data_X.values)\n",
        "  #model_base.fit(scaled_features, data_Y)\n",
        "  #Prediction = model_base.predict(scaled_features)\n",
        "  #Actual = data_Y\n",
        "  \n",
        "  \n",
        "  #minimum=min(Prediction)\n",
        "  #maximum=max(Prediction)\n",
        "  #Prediction=(Prediction-minimum)/(maximum-minimum)\n",
        "  #mae = mean_squared_error(Prediction, Actual)\n",
        "  #return mae"
      ],
      "execution_count": null,
      "outputs": []
    },
    {
      "cell_type": "code",
      "metadata": {
        "id": "ot-yEfnGtuNv"
      },
      "source": [
        ""
      ],
      "execution_count": null,
      "outputs": []
    },
    {
      "cell_type": "markdown",
      "metadata": {
        "id": "uoSYUxRRprGo"
      },
      "source": [
        "**#all posible combination check**\r\n"
      ]
    },
    {
      "cell_type": "code",
      "metadata": {
        "id": "sGmKx9UKi-An"
      },
      "source": [
        "\r\n",
        "#f=list(['age','difficulty_work','covid_sleepless','frustration','optimism','interaction_online','healthy_sleep','health_worker_self', 'current_physical', 'current_mental'])\r\n",
        "#l=len(f)\r\n",
        "#best_mae, combination = 100000, 0\r\n",
        "#for i in range(1,1<<l):\r\n",
        " # a=[]\r\n",
        "  #for j in range(l):\r\n",
        "   # if((i & (1<<j)) ):\r\n",
        "    #  a.append(f[j])\r\n",
        "    \r\n",
        "  #data_X = df[a]\r\n",
        "  #data_Y = df['depression']\r\n",
        "  #mae = trainer(data_X, data_Y)\r\n",
        "  #print(i,mae)\r\n",
        "  #if mae < best_mae:\r\n",
        "   # best_mae = mae\r\n",
        "    #combination = i\r\n",
        "\r\n",
        "\r\n",
        "\r\n",
        "\r\n"
      ],
      "execution_count": null,
      "outputs": []
    },
    {
      "cell_type": "code",
      "metadata": {
        "id": "2yZ79y_Vk1KO"
      },
      "source": [
        "#best_mae"
      ],
      "execution_count": null,
      "outputs": []
    },
    {
      "cell_type": "code",
      "metadata": {
        "id": "YwdkTw__nPQA"
      },
      "source": [
        " #a=[]\r\n",
        "#for j in range(l):\r\n",
        "  #if((combination & (1<<j)) ):\r\n",
        "   # a.append(f[j])\r\n",
        "  \r\n",
        "#data_X = df[a]\r\n",
        "#data_Y = df['depression']\r\n",
        "#from sklearn.preprocessing import StandardScaler\r\n",
        "#scaler = StandardScaler()\r\n",
        "#scaled_features=scaler.fit_transform(data_X.values)\r\n",
        "\r\n",
        "#model_base = LinearRegression(normalize=True)\r\n",
        "##model_base = SVR(kernel='linear')\r\n",
        "#print(data_X.columns)\r\n",
        "\r\n",
        "#model_base.fit(scaled_features, data_Y)\r\n",
        "#test_data_X=df1[a]\r\n",
        "#scaled_test=scaler.fit_transform(test_data_X.values)\r\n",
        "#Prediction=model_base.predict(scaled_test)\r\n",
        "#minimum=min(Prediction)\r\n",
        "#maximum=max(Prediction)\r\n",
        "#Prediction=(Prediction-minimum)/(maximum-minimum)\r\n",
        "\r\n",
        "\r\n",
        "\r\n"
      ],
      "execution_count": null,
      "outputs": []
    },
    {
      "cell_type": "code",
      "metadata": {
        "id": "JdhtsaX2yO5B"
      },
      "source": [
        "#Prediction"
      ],
      "execution_count": null,
      "outputs": []
    },
    {
      "cell_type": "code",
      "metadata": {
        "id": "VDN-kIZ522bG"
      },
      "source": [
        "\r\n",
        "\r\n",
        "#df1"
      ],
      "execution_count": null,
      "outputs": []
    },
    {
      "cell_type": "code",
      "metadata": {
        "id": "Uh3aFzHs3txU"
      },
      "source": [
        "#len(df1.index)\r\n",
        "#len(Prediction)"
      ],
      "execution_count": null,
      "outputs": []
    },
    {
      "cell_type": "code",
      "metadata": {
        "id": "WLU88my82Js4"
      },
      "source": [
        "#result=pd.DataFrame({'id':df1['id'],'depression':Prediction})"
      ],
      "execution_count": null,
      "outputs": []
    },
    {
      "cell_type": "code",
      "metadata": {
        "id": "k0Cptydy2qod"
      },
      "source": [
        "#result"
      ],
      "execution_count": null,
      "outputs": []
    },
    {
      "cell_type": "code",
      "metadata": {
        "id": "-871I2Lv39Be"
      },
      "source": [
        "#result.to_csv('TEAM_8_linear_regression.csv',index=False)"
      ],
      "execution_count": null,
      "outputs": []
    },
    {
      "cell_type": "code",
      "metadata": {
        "id": "6QThrLow4N2M"
      },
      "source": [
        "\r\n",
        "###plot for svm\r\n",
        "#plt.figure(figsize=(20, 10))\r\n",
        "\r\n",
        "\r\n",
        "#ax1 = sns.distplot(Actual, hist=False, color=\"r\", label=\"Actual Value\")\r\n",
        "#sns.distplot(Prediction, hist=False, color=\"b\", label=\"Fitted Values\" , ax=ax1)\r\n",
        "\r\n",
        "\r\n",
        "#plt.title('Actual vs Fitted Values for depression in SVM')\r\n",
        "#plt.xlabel('Depression (in decimal)')\r\n",
        "#plt.ylabel('Proportion of depression')\r\n",
        "\r\n",
        "#plt.show()\r\n",
        "#plt.close()\r\n"
      ],
      "execution_count": null,
      "outputs": []
    },
    {
      "cell_type": "code",
      "metadata": {
        "id": "G13IN4kPr29I"
      },
      "source": [
        "\r\n",
        "#from sklearn.svm import SVR\r\n",
        "#from sklearn.metrics import mean_squared_error, r2_score\r\n",
        "#def trainer(data_X, data_Y):\r\n",
        "  \r\n",
        "  #model_base = SVR(kernel='linear')\r\n",
        "  #print(data_X.columns)\r\n",
        "  #from sklearn.preprocessing import StandardScaler\r\n",
        "  #scaled_features = StandardScaler().fit_transform(data_X.values)\r\n",
        "  #model_base.fit(scaled_features, data_Y)\r\n",
        "  #Prediction = model_base.predict(scaled_features)\r\n",
        "  #Actual = data_Y\r\n",
        "  \r\n",
        "  \r\n",
        "  #minimum=min(Prediction)\r\n",
        "  #maximum=max(Prediction)\r\n",
        "  #Prediction=(Prediction-minimum)/(maximum-minimum)\r\n",
        "  #mae = mean_squared_error(Prediction, Actual)\r\n",
        "  #return mae"
      ],
      "execution_count": null,
      "outputs": []
    },
    {
      "cell_type": "code",
      "metadata": {
        "id": "s_LT3Nqut4mM"
      },
      "source": [
        "\r\n",
        "#f=list(['age','difficulty_work','covid_sleepless','frustration','optimism','interaction_online','healthy_sleep','health_worker_self', 'current_physical', 'current_mental'])\r\n",
        "#l=len(f)\r\n",
        "#best_mae, combination = 100000, 0\r\n",
        "#for i in range(1,1<<l):\r\n",
        " # a=[]\r\n",
        " # for j in range(l):\r\n",
        " #   if((i & (1<<j)) ):\r\n",
        " #     a.append(f[j])\r\n",
        "    \r\n",
        " # data_X = df[a]\r\n",
        "  #data_Y = df['target']\r\n",
        "  #mae = trainer(data_X, data_Y)\r\n",
        "  #print(i,mae)\r\n",
        " # if mae < best_mae:\r\n",
        " #   best_mae = mae\r\n",
        " #   combination = i\r\n",
        "\r\n"
      ],
      "execution_count": null,
      "outputs": []
    },
    {
      "cell_type": "code",
      "metadata": {
        "id": "GF_wtuyXuK40"
      },
      "source": [
        "#best_mae"
      ],
      "execution_count": null,
      "outputs": []
    },
    {
      "cell_type": "code",
      "metadata": {
        "id": "eXWNDDocwFvL"
      },
      "source": [
        " #a=[]\r\n",
        "#for j in range(l):\r\n",
        " # if((combination & (1<<j)) ):\r\n",
        "  #  a.append(f[j])\r\n",
        "  \r\n",
        "#data_X = df[a]\r\n",
        "#data_Y = df['target']\r\n",
        "#from sklearn.preprocessing import StandardScaler\r\n",
        "#scaler = StandardScaler()\r\n",
        "#scaled_features=scaler.fit_transform(data_X.values)\r\n",
        "\r\n",
        "#model_base = LinearRegression(normalize=True)\r\n",
        "##model_base = SVR(kernel='linear')\r\n",
        "#print(data_X.columns)\r\n",
        "\r\n",
        "#model_base.fit(scaled_features, data_Y)\r\n",
        "#test_data_X=df1[a]\r\n",
        "#scaled_test=scaler.fit_transform(test_data_X.values)\r\n",
        "#Prediction=model_base.predict(scaled_test)\r\n",
        "#minimum=min(Prediction)\r\n",
        "#maximum=max(Prediction)\r\n",
        "#Prediction=(Prediction-minimum)/(maximum-minimum)\r\n",
        "\r\n",
        "\r\n",
        "\r\n"
      ],
      "execution_count": null,
      "outputs": []
    },
    {
      "cell_type": "code",
      "metadata": {
        "id": "4DuqOrb-1UUC"
      },
      "source": [
        "#result=pd.DataFrame({'id':df1['id'],'depression':Prediction})"
      ],
      "execution_count": null,
      "outputs": []
    },
    {
      "cell_type": "code",
      "metadata": {
        "id": "feop5ur81d68"
      },
      "source": [
        "#result"
      ],
      "execution_count": null,
      "outputs": []
    },
    {
      "cell_type": "code",
      "metadata": {
        "id": "CwDOeokQUYjA"
      },
      "source": [
        "#df1"
      ],
      "execution_count": null,
      "outputs": []
    },
    {
      "cell_type": "code",
      "metadata": {
        "id": "na-QqWeP1hTD"
      },
      "source": [
        "X = df[['gender', 'age', 'job', 'health_worker_self','health_worker_family',  'income_group','past_physical','current_physical',  'current_mental', 'past_mental',\r\n",
        "      'exercise', 'healthy_diet', 'healthy_sleep', 'activity','interaction_offline', 'interaction_online', 'preventive_behaviors','optimism', 'deterioration_economy', 'deterioration_interact','frustration', 'covid_anxiety', 'covid_sleepless', 'difficulty_living',\r\n",
        "    'difficulty_work']]\r\n",
        "#X=df[['difficulty_work','covid_sleepless','frustration','optimism','interaction_online','healthy_sleep','health_worker_self', 'current_physical', 'current_mental']]\r\n",
        "y = df['depression']\r\n",
        "\r\n",
        "\r\n",
        "#X=df[['deterioration_economy','deterioration_interact','frustration','covid_anxiety','covid_sleepless','difficulty_living','difficulty_work']]\r\n"
      ],
      "execution_count": 274,
      "outputs": []
    },
    {
      "cell_type": "code",
      "metadata": {
        "id": "dJnAbU4puJW1"
      },
      "source": [
        "\r\n",
        "Id=df1['id']\r\n",
        "\r\n",
        "test_X = df1[[ 'gender', 'age', 'job', 'health_worker_self','health_worker_family', 'income_group','past_physical',\r\n",
        "   'current_physical', 'current_mental', 'past_mental','exercise', 'healthy_diet', 'healthy_sleep', 'activity',\r\n",
        "'interaction_offline', 'interaction_online', 'preventive_behaviors','optimism', 'deterioration_economy', 'deterioration_interact',\r\n",
        "'frustration', 'covid_anxiety', 'covid_sleepless', 'difficulty_living','difficulty_work']]\r\n",
        "#test_X=df1[['difficulty_work','covid_sleepless','frustration','optimism','interaction_online','healthy_sleep','health_worker_self', 'current_physical', 'current_mental']]\r\n",
        "#test_X=df1[['deterioration_economy','deterioration_interact','frustration','covid_anxiety','covid_sleepless','difficulty_living','difficulty_work']]\r\n"
      ],
      "execution_count": 277,
      "outputs": []
    },
    {
      "cell_type": "code",
      "metadata": {
        "colab": {
          "base_uri": "https://localhost:8080/"
        },
        "id": "5oz3TxemMeGQ",
        "outputId": "b018c14a-914b-440b-ef45-8541a98998e9"
      },
      "source": [
        "Id"
      ],
      "execution_count": 278,
      "outputs": [
        {
          "output_type": "execute_result",
          "data": {
            "text/plain": [
              "0        828763412\n",
              "1       2009293273\n",
              "2        360753013\n",
              "3        321912830\n",
              "4       1090960107\n",
              "           ...    \n",
              "2718    1757603200\n",
              "2719     262849879\n",
              "2720    1521871763\n",
              "2721    2053555030\n",
              "2722    1914354871\n",
              "Name: id, Length: 2723, dtype: int64"
            ]
          },
          "metadata": {
            "tags": []
          },
          "execution_count": 278
        }
      ]
    },
    {
      "cell_type": "code",
      "metadata": {
        "id": "cFIDt6G85NYO",
        "colab": {
          "base_uri": "https://localhost:8080/"
        },
        "outputId": "67d57236-4b41-461b-d375-af2f57ba0522"
      },
      "source": [
        "len(test_X)"
      ],
      "execution_count": 279,
      "outputs": [
        {
          "output_type": "execute_result",
          "data": {
            "text/plain": [
              "2723"
            ]
          },
          "metadata": {
            "tags": []
          },
          "execution_count": 279
        }
      ]
    },
    {
      "cell_type": "code",
      "metadata": {
        "id": "d8WaEn8W6LS4"
      },
      "source": [
        "import xgboost as xg\r\n",
        "import xgboost as xgb\r\n",
        "# Instantiation \r\n",
        "#xgb_r = xg.XGBRegressor(objective ='reg:linear', n_estimators = 10, seed = 123)\r\n",
        "xgb_r = xg.XGBClassifier(objective=\"binary:logistic\", random_state=42,eval_metric=\"auc\")\r\n",
        "# Fitting the model \r\n",
        "xgb_r.fit(X, y) \r\n",
        "  \r\n",
        "# Predict the model \r\n",
        "pred = xgb_r.predict_proba(test_X)     \r\n",
        " \r\n"
      ],
      "execution_count": 280,
      "outputs": []
    },
    {
      "cell_type": "code",
      "metadata": {
        "colab": {
          "base_uri": "https://localhost:8080/"
        },
        "id": "T7RN7L3sMC_l",
        "outputId": "811b5a80-38ec-44c1-cecb-b1b3dd597a9d"
      },
      "source": [
        "pred"
      ],
      "execution_count": 281,
      "outputs": [
        {
          "output_type": "execute_result",
          "data": {
            "text/plain": [
              "array([[0.91510415, 0.08489583],\n",
              "       [0.9237151 , 0.07628489],\n",
              "       [0.8903455 , 0.10965448],\n",
              "       ...,\n",
              "       [0.88252854, 0.11747148],\n",
              "       [0.9032557 , 0.09674428],\n",
              "       [0.80133337, 0.19866663]], dtype=float32)"
            ]
          },
          "metadata": {
            "tags": []
          },
          "execution_count": 281
        }
      ]
    },
    {
      "cell_type": "code",
      "metadata": {
        "colab": {
          "base_uri": "https://localhost:8080/"
        },
        "id": "Fwxs3s91CBeH",
        "outputId": "911c353e-b7bc-4361-e711-465fbf9866d2"
      },
      "source": [
        "m=min(pred[:,1])\r\n",
        "m\r\n"
      ],
      "execution_count": 282,
      "outputs": [
        {
          "output_type": "execute_result",
          "data": {
            "text/plain": [
              "0.00548125"
            ]
          },
          "metadata": {
            "tags": []
          },
          "execution_count": 282
        }
      ]
    },
    {
      "cell_type": "code",
      "metadata": {
        "colab": {
          "base_uri": "https://localhost:8080/"
        },
        "id": "Qq2L9yKIJpW8",
        "outputId": "46a2e76a-e5c1-4499-9036-0b684d79309c"
      },
      "source": [
        "\r\n",
        "print(\"Accuracy of train:\",xgb_r.score(X,y))\r\n"
      ],
      "execution_count": 283,
      "outputs": [
        {
          "output_type": "stream",
          "text": [
            "Accuracy of train: 0.8632243889041472\n"
          ],
          "name": "stdout"
        }
      ]
    },
    {
      "cell_type": "markdown",
      "metadata": {
        "id": "zPtRrqv2zwCi"
      },
      "source": [
        "Here we measure the depression score "
      ]
    },
    {
      "cell_type": "code",
      "metadata": {
        "id": "kUCzw5wX81YW",
        "colab": {
          "base_uri": "https://localhost:8080/",
          "height": 407
        },
        "outputId": "aa073b1e-b1b3-49b3-cb38-1528710697d6"
      },
      "source": [
        "\r\n",
        "result1=pd.DataFrame({'id':df1['id'],'depression':pred[:,1]})\r\n",
        "result1\r\n"
      ],
      "execution_count": 284,
      "outputs": [
        {
          "output_type": "execute_result",
          "data": {
            "text/html": [
              "<div>\n",
              "<style scoped>\n",
              "    .dataframe tbody tr th:only-of-type {\n",
              "        vertical-align: middle;\n",
              "    }\n",
              "\n",
              "    .dataframe tbody tr th {\n",
              "        vertical-align: top;\n",
              "    }\n",
              "\n",
              "    .dataframe thead th {\n",
              "        text-align: right;\n",
              "    }\n",
              "</style>\n",
              "<table border=\"1\" class=\"dataframe\">\n",
              "  <thead>\n",
              "    <tr style=\"text-align: right;\">\n",
              "      <th></th>\n",
              "      <th>id</th>\n",
              "      <th>depression</th>\n",
              "    </tr>\n",
              "  </thead>\n",
              "  <tbody>\n",
              "    <tr>\n",
              "      <th>0</th>\n",
              "      <td>828763412</td>\n",
              "      <td>0.084896</td>\n",
              "    </tr>\n",
              "    <tr>\n",
              "      <th>1</th>\n",
              "      <td>2009293273</td>\n",
              "      <td>0.076285</td>\n",
              "    </tr>\n",
              "    <tr>\n",
              "      <th>2</th>\n",
              "      <td>360753013</td>\n",
              "      <td>0.109654</td>\n",
              "    </tr>\n",
              "    <tr>\n",
              "      <th>3</th>\n",
              "      <td>321912830</td>\n",
              "      <td>0.084717</td>\n",
              "    </tr>\n",
              "    <tr>\n",
              "      <th>4</th>\n",
              "      <td>1090960107</td>\n",
              "      <td>0.503203</td>\n",
              "    </tr>\n",
              "    <tr>\n",
              "      <th>...</th>\n",
              "      <td>...</td>\n",
              "      <td>...</td>\n",
              "    </tr>\n",
              "    <tr>\n",
              "      <th>2718</th>\n",
              "      <td>1757603200</td>\n",
              "      <td>0.620744</td>\n",
              "    </tr>\n",
              "    <tr>\n",
              "      <th>2719</th>\n",
              "      <td>262849879</td>\n",
              "      <td>0.634562</td>\n",
              "    </tr>\n",
              "    <tr>\n",
              "      <th>2720</th>\n",
              "      <td>1521871763</td>\n",
              "      <td>0.117471</td>\n",
              "    </tr>\n",
              "    <tr>\n",
              "      <th>2721</th>\n",
              "      <td>2053555030</td>\n",
              "      <td>0.096744</td>\n",
              "    </tr>\n",
              "    <tr>\n",
              "      <th>2722</th>\n",
              "      <td>1914354871</td>\n",
              "      <td>0.198667</td>\n",
              "    </tr>\n",
              "  </tbody>\n",
              "</table>\n",
              "<p>2723 rows × 2 columns</p>\n",
              "</div>"
            ],
            "text/plain": [
              "              id  depression\n",
              "0      828763412    0.084896\n",
              "1     2009293273    0.076285\n",
              "2      360753013    0.109654\n",
              "3      321912830    0.084717\n",
              "4     1090960107    0.503203\n",
              "...          ...         ...\n",
              "2718  1757603200    0.620744\n",
              "2719   262849879    0.634562\n",
              "2720  1521871763    0.117471\n",
              "2721  2053555030    0.096744\n",
              "2722  1914354871    0.198667\n",
              "\n",
              "[2723 rows x 2 columns]"
            ]
          },
          "metadata": {
            "tags": []
          },
          "execution_count": 284
        }
      ]
    },
    {
      "cell_type": "code",
      "metadata": {
        "id": "GcKyjEG1-pTY"
      },
      "source": [
        "result1.to_csv('team8_Empire_XGBoost_binarylogistic_updated_feature1.csv',index=False)"
      ],
      "execution_count": 287,
      "outputs": []
    },
    {
      "cell_type": "markdown",
      "metadata": {
        "id": "UuVM2YBWvZWT"
      },
      "source": [
        "\r\n",
        "\r\n",
        "# Performance Metrics: Log Loss"
      ]
    },
    {
      "cell_type": "code",
      "metadata": {
        "id": "XKvN9w5--A3x",
        "colab": {
          "base_uri": "https://localhost:8080/"
        },
        "outputId": "7e5ce68a-1126-4fcf-ae5d-3ebc1861956b"
      },
      "source": [
        "from sklearn import model_selection\r\n",
        "\r\n",
        "kfold = model_selection.KFold(n_splits=10, random_state=7, shuffle=True)\r\n",
        "scoring = 'accuracy'\r\n",
        "logloss_score = model_selection.cross_val_score(xgb_r, X, y, cv=kfold, scoring=scoring)\r\n",
        "print(\"Logloss: %.3f (%.3f)\" % (logloss_score.mean(), logloss_score.std()))"
      ],
      "execution_count": 309,
      "outputs": [
        {
          "output_type": "stream",
          "text": [
            "Logloss: 0.844 (0.008)\n"
          ],
          "name": "stdout"
        }
      ]
    },
    {
      "cell_type": "markdown",
      "metadata": {
        "id": "bVOppRtHjCP_"
      },
      "source": [
        "#Logistic regression for 24 features\r\n",
        "\r\n"
      ]
    },
    {
      "cell_type": "code",
      "metadata": {
        "colab": {
          "base_uri": "https://localhost:8080/"
        },
        "id": "dy428Z4zhY1Q",
        "outputId": "71ab34f3-0d8e-4235-97aa-6c1950ebdbdb"
      },
      "source": [
        "test_df = pd.read_csv('covid_mental_health_test.csv')\r\n",
        "raw_train_df = pd.read_csv('covid_mental_health_train.csv')\r\n",
        "# using isnull() function   \r\n",
        "raw_train_df.isnull().any()\r\n",
        "# drop all rows with any NaN and NaT values\r\n",
        "#raw_train_df = raw_train_df.dropna()\r\n",
        "\r\n",
        "#fill null values with the mean of the corresponding column\r\n",
        "raw_train_df = raw_train_df.fillna(raw_train_df.mean())\r\n",
        "raw_train_df.info()"
      ],
      "execution_count": 293,
      "outputs": [
        {
          "output_type": "stream",
          "text": [
            "<class 'pandas.core.frame.DataFrame'>\n",
            "RangeIndex: 8610 entries, 0 to 8609\n",
            "Data columns (total 29 columns):\n",
            " #   Column                  Non-Null Count  Dtype  \n",
            "---  ------                  --------------  -----  \n",
            " 0   id                      8610 non-null   int64  \n",
            " 1   city                    8610 non-null   int64  \n",
            " 2   gender                  8610 non-null   int64  \n",
            " 3   age                     8610 non-null   int64  \n",
            " 4   job                     8610 non-null   int64  \n",
            " 5   health_worker_self      8610 non-null   int64  \n",
            " 6   health_worker_family    8610 non-null   int64  \n",
            " 7   family_status           8610 non-null   int64  \n",
            " 8   income_group            8610 non-null   float64\n",
            " 9   current_physical        8610 non-null   int64  \n",
            " 10  past_physical           8610 non-null   int64  \n",
            " 11  current_mental          8610 non-null   int64  \n",
            " 12  past_mental             8610 non-null   int64  \n",
            " 13  exercise                8610 non-null   int64  \n",
            " 14  healthy_diet            8610 non-null   int64  \n",
            " 15  healthy_sleep           8610 non-null   int64  \n",
            " 16  activity                8610 non-null   int64  \n",
            " 17  interaction_offline     8610 non-null   int64  \n",
            " 18  interaction_online      8610 non-null   int64  \n",
            " 19  preventive_behaviors    8610 non-null   int64  \n",
            " 20  optimism                8610 non-null   int64  \n",
            " 21  deterioration_economy   8610 non-null   int64  \n",
            " 22  deterioration_interact  8610 non-null   int64  \n",
            " 23  frustration             8610 non-null   int64  \n",
            " 24  covid_anxiety           8610 non-null   int64  \n",
            " 25  covid_sleepless         8610 non-null   int64  \n",
            " 26  difficulty_living       8610 non-null   int64  \n",
            " 27  difficulty_work         8610 non-null   int64  \n",
            " 28  depression              8610 non-null   int64  \n",
            "dtypes: float64(1), int64(28)\n",
            "memory usage: 1.9 MB\n"
          ],
          "name": "stdout"
        }
      ]
    },
    {
      "cell_type": "code",
      "metadata": {
        "id": "dH7Rigd3hvGM"
      },
      "source": [
        "array = raw_train_df.values\r\n",
        "X = array[:,1:28]\r\n",
        "\r\n",
        "y = array[:,28]"
      ],
      "execution_count": 294,
      "outputs": []
    },
    {
      "cell_type": "code",
      "metadata": {
        "colab": {
          "base_uri": "https://localhost:8080/"
        },
        "id": "urtABnSXhzFb",
        "outputId": "f2a01035-4511-434d-97c3-a6a6e3cca79f"
      },
      "source": [
        "X.shape"
      ],
      "execution_count": 295,
      "outputs": [
        {
          "output_type": "execute_result",
          "data": {
            "text/plain": [
              "(8610, 27)"
            ]
          },
          "metadata": {
            "tags": []
          },
          "execution_count": 295
        }
      ]
    },
    {
      "cell_type": "code",
      "metadata": {
        "id": "FowqRIW8iKpi"
      },
      "source": [
        "\r\n",
        "from sklearn.feature_selection import RFE"
      ],
      "execution_count": 296,
      "outputs": []
    },
    {
      "cell_type": "code",
      "metadata": {
        "id": "eHAYnMRKh6xZ"
      },
      "source": [
        "# feature selection, top best 16 feature using Recursive Feature Elimination\r\n",
        "\r\n",
        "\r\n",
        "#model = LogisticRegression(solver='lbfgs')\r\n",
        "#rfe = RFE(model, 16)\r\n",
        "#logistic_model = rfe.fit(X, y)\r\n",
        "#print(\"Num Features: %d\" % logistic_model.n_features_)\r\n",
        "#print(\"Selected Features: %s\" % logistic_model.support_)\r\n",
        "#print(\"Feature Ranking: %s\" % logistic_model.ranking_)"
      ],
      "execution_count": 297,
      "outputs": []
    },
    {
      "cell_type": "code",
      "metadata": {
        "colab": {
          "base_uri": "https://localhost:8080/"
        },
        "id": "4gdpkcWSseOF",
        "outputId": "b55bf836-340c-4e8b-bb39-a285e3333854"
      },
      "source": [
        "# feature selection, top best 24 feature using Recursive Feature Elimination\r\n",
        "model = LogisticRegression(solver='lbfgs')\r\n",
        "rfe = RFE(model, 24)\r\n",
        "logistic_model = rfe.fit(X, y)\r\n",
        "print(\"Num Features: %d\" % logistic_model.n_features_)\r\n",
        "print(\"Selected Features: %s\" % logistic_model.support_)\r\n",
        "print(\"Feature Ranking: %s\" % logistic_model.ranking_)"
      ],
      "execution_count": 298,
      "outputs": [
        {
          "output_type": "stream",
          "text": [
            "Num Features: 24\n",
            "Selected Features: [ True  True False  True  True  True  True False  True  True  True  True\n",
            "  True  True  True  True False  True  True  True  True  True  True  True\n",
            "  True  True  True]\n",
            "Feature Ranking: [1 1 2 1 1 1 1 4 1 1 1 1 1 1 1 1 3 1 1 1 1 1 1 1 1 1 1]\n"
          ],
          "name": "stdout"
        }
      ]
    },
    {
      "cell_type": "code",
      "metadata": {
        "colab": {
          "base_uri": "https://localhost:8080/"
        },
        "id": "ukMSDy3Bh-LG",
        "outputId": "9fd59fac-830e-4120-d4f7-72722750ef8e"
      },
      "source": [
        "#processing test dataset and prediction on them\r\n",
        "\r\n",
        "test_df = test_df.fillna(test_df.mean())\r\n",
        "\r\n",
        "test_dataset = test_df.values\r\n",
        "test_dataset = test_dataset[:,1:28]\r\n",
        "\r\n",
        "pred_test = logistic_model.predict_proba(test_dataset)\r\n",
        "min_test = min(pred_test[:,1])\r\n",
        "min_test"
      ],
      "execution_count": 299,
      "outputs": [
        {
          "output_type": "execute_result",
          "data": {
            "text/plain": [
              "0.002818127015654999"
            ]
          },
          "metadata": {
            "tags": []
          },
          "execution_count": 299
        }
      ]
    },
    {
      "cell_type": "code",
      "metadata": {
        "colab": {
          "base_uri": "https://localhost:8080/"
        },
        "id": "c3joCdx2ifo6",
        "outputId": "84d496b9-c839-4b4d-9bdf-7d7eb287dbdb"
      },
      "source": [
        "test_dataset.shape"
      ],
      "execution_count": 300,
      "outputs": [
        {
          "output_type": "execute_result",
          "data": {
            "text/plain": [
              "(2723, 27)"
            ]
          },
          "metadata": {
            "tags": []
          },
          "execution_count": 300
        }
      ]
    },
    {
      "cell_type": "code",
      "metadata": {
        "colab": {
          "base_uri": "https://localhost:8080/"
        },
        "id": "CcJNUM9yikDQ",
        "outputId": "75c2a220-b5da-4ca3-e23a-cd687178140d"
      },
      "source": [
        "print(\"Accuracy of train:\",rfe.score(X,y))"
      ],
      "execution_count": 301,
      "outputs": [
        {
          "output_type": "stream",
          "text": [
            "Accuracy of train: 0.8475029036004645\n"
          ],
          "name": "stdout"
        }
      ]
    },
    {
      "cell_type": "code",
      "metadata": {
        "colab": {
          "base_uri": "https://localhost:8080/",
          "height": 407
        },
        "id": "5hnxOJnPinUA",
        "outputId": "d42faee8-2289-451f-9a08-e8e42be5d06e"
      },
      "source": [
        "#exporting result\r\n",
        "result=pd.DataFrame({'id':test_df['id'],'depression':pred_test[:,1]})\r\n",
        "result"
      ],
      "execution_count": 302,
      "outputs": [
        {
          "output_type": "execute_result",
          "data": {
            "text/html": [
              "<div>\n",
              "<style scoped>\n",
              "    .dataframe tbody tr th:only-of-type {\n",
              "        vertical-align: middle;\n",
              "    }\n",
              "\n",
              "    .dataframe tbody tr th {\n",
              "        vertical-align: top;\n",
              "    }\n",
              "\n",
              "    .dataframe thead th {\n",
              "        text-align: right;\n",
              "    }\n",
              "</style>\n",
              "<table border=\"1\" class=\"dataframe\">\n",
              "  <thead>\n",
              "    <tr style=\"text-align: right;\">\n",
              "      <th></th>\n",
              "      <th>id</th>\n",
              "      <th>depression</th>\n",
              "    </tr>\n",
              "  </thead>\n",
              "  <tbody>\n",
              "    <tr>\n",
              "      <th>0</th>\n",
              "      <td>828763412</td>\n",
              "      <td>0.092597</td>\n",
              "    </tr>\n",
              "    <tr>\n",
              "      <th>1</th>\n",
              "      <td>2009293273</td>\n",
              "      <td>0.040459</td>\n",
              "    </tr>\n",
              "    <tr>\n",
              "      <th>2</th>\n",
              "      <td>360753013</td>\n",
              "      <td>0.069202</td>\n",
              "    </tr>\n",
              "    <tr>\n",
              "      <th>3</th>\n",
              "      <td>321912830</td>\n",
              "      <td>0.066048</td>\n",
              "    </tr>\n",
              "    <tr>\n",
              "      <th>4</th>\n",
              "      <td>1090960107</td>\n",
              "      <td>0.605121</td>\n",
              "    </tr>\n",
              "    <tr>\n",
              "      <th>...</th>\n",
              "      <td>...</td>\n",
              "      <td>...</td>\n",
              "    </tr>\n",
              "    <tr>\n",
              "      <th>2718</th>\n",
              "      <td>1757603200</td>\n",
              "      <td>0.615630</td>\n",
              "    </tr>\n",
              "    <tr>\n",
              "      <th>2719</th>\n",
              "      <td>262849879</td>\n",
              "      <td>0.617380</td>\n",
              "    </tr>\n",
              "    <tr>\n",
              "      <th>2720</th>\n",
              "      <td>1521871763</td>\n",
              "      <td>0.142385</td>\n",
              "    </tr>\n",
              "    <tr>\n",
              "      <th>2721</th>\n",
              "      <td>2053555030</td>\n",
              "      <td>0.118520</td>\n",
              "    </tr>\n",
              "    <tr>\n",
              "      <th>2722</th>\n",
              "      <td>1914354871</td>\n",
              "      <td>0.245394</td>\n",
              "    </tr>\n",
              "  </tbody>\n",
              "</table>\n",
              "<p>2723 rows × 2 columns</p>\n",
              "</div>"
            ],
            "text/plain": [
              "              id  depression\n",
              "0      828763412    0.092597\n",
              "1     2009293273    0.040459\n",
              "2      360753013    0.069202\n",
              "3      321912830    0.066048\n",
              "4     1090960107    0.605121\n",
              "...          ...         ...\n",
              "2718  1757603200    0.615630\n",
              "2719   262849879    0.617380\n",
              "2720  1521871763    0.142385\n",
              "2721  2053555030    0.118520\n",
              "2722  1914354871    0.245394\n",
              "\n",
              "[2723 rows x 2 columns]"
            ]
          },
          "metadata": {
            "tags": []
          },
          "execution_count": 302
        }
      ]
    },
    {
      "cell_type": "code",
      "metadata": {
        "id": "F5bMoZsUisUV"
      },
      "source": [
        "result.to_csv('team8_Empire_LogisticRegression_pred_col1_feature_elimination.csv',index=False)"
      ],
      "execution_count": 306,
      "outputs": []
    },
    {
      "cell_type": "markdown",
      "metadata": {
        "id": "7VV3hEtruP3I"
      },
      "source": [
        "\r\n",
        "\r\n",
        "# Performance Metrics: Log Loss"
      ]
    },
    {
      "cell_type": "code",
      "metadata": {
        "colab": {
          "base_uri": "https://localhost:8080/"
        },
        "id": "hiOHiuXJi0RI",
        "outputId": "e3246811-c9fd-4c26-d719-fce3afdb6cf2"
      },
      "source": [
        "from sklearn import model_selection\r\n",
        "\r\n",
        "kfold = model_selection.KFold(n_splits=10, random_state=7, shuffle=True)\r\n",
        "scoring = 'accuracy'\r\n",
        "logloss_score = model_selection.cross_val_score(logistic_model, X, y, cv=kfold, scoring=scoring)\r\n",
        "print(\"Logloss: %.3f (%.3f)\" % (logloss_score.mean(), logloss_score.std()))"
      ],
      "execution_count": 307,
      "outputs": [
        {
          "output_type": "stream",
          "text": [
            "Logloss: 0.843 (0.013)\n"
          ],
          "name": "stdout"
        }
      ]
    },
    {
      "cell_type": "code",
      "metadata": {
        "id": "VAftoy-duDtL"
      },
      "source": [
        ""
      ],
      "execution_count": null,
      "outputs": []
    },
    {
      "cell_type": "markdown",
      "metadata": {
        "id": "eaJGnU31uM09"
      },
      "source": [
        ""
      ]
    }
  ]
}